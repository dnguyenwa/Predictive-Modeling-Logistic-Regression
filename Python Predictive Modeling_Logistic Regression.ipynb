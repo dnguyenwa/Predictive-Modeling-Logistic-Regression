{
 "cells": [
  {
   "cell_type": "markdown",
   "id": "b9aaf8b7",
   "metadata": {},
   "source": [
    "Dung Nguyen\n",
    "\n",
    "Predictive Modeling\n",
    "\n",
    "Task 2: LOGISTIC REGRESSION FOR PREDICTIVE MODELING\n",
    "\n",
    "November 24, 2021"
   ]
  },
  {
   "cell_type": "markdown",
   "id": "fd1683fa",
   "metadata": {},
   "source": [
    "# Task 2: LOGISTIC REGRESSION FOR PREDICTIVE MODELING"
   ]
  },
  {
   "cell_type": "markdown",
   "id": "5388763e",
   "metadata": {},
   "source": [
    "**A1. Research Question:**\n",
    "\n",
    "Can we determine which variables are the most important to predicting which patients are at high risk of readmission?"
   ]
  },
  {
   "cell_type": "markdown",
   "id": "1712577b",
   "metadata": {},
   "source": [
    "**A2. Objectives for the data analysis:**\n",
    "    \n",
    "The business will be able to identify which variables are the most important to predicting which patients are at high risk of readmission with some measure of confidence. This process will provide weight for decisions in making improvements to hospital services and treatments.    "
   ]
  },
  {
   "cell_type": "markdown",
   "id": "d353a132",
   "metadata": {},
   "source": [
    "**B1. Assumptions of the logistic regression model**\n",
    "\n",
    "According to Dr. William Sewell, multiple logistic regression is based on the following assumptions:\n",
    "\n",
    "1. The logistic regression is based on the Bernoulli distribution rather than Gaussian because the dependent variable is binary.\n",
    "2. The predicted values are restricted to a range of nominal values \n",
    "3. The logistic regression predicts the probability of particular outcomes rather than the result itself.\n",
    "\n",
    "#William Sewell. (2021, Nov 10)\n"
   ]
  },
  {
   "cell_type": "markdown",
   "id": "a20e5f0e",
   "metadata": {},
   "source": [
    "**B2 and B3. Tool and technique:**\n",
    " \n",
    " I have many programming languages that I can use, such as R and Python, to achieve this process. In this assignment, I use Python to assess data quality, clean the data, and predict the data. Python is a multipurpose programing language that has libraries that extend its capabilities to do statistical analysis. For the beginner, coding in Python is easy to read and easy to understand the flows of the program. Also, I will work with Python in the Jupyter notebooks as a convenient way to run code and visualizations and accessible to running documentation for my reference. \n",
    " \n",
    "The libraries and packages used to clean the data run in python environments such as Panda, NumPy, Scipy, Matplotlib, and Seaborn. These libraries and packages provide functionalities like reading large datasets like statistical functions like Zscore, creating visualization models like box plots and histograms. I also use Scikit-learn for regression models.\n",
    "\n",
    "The logistic regression model, also called the logit model, describes data and explains the relationship between the dependent binary variable and the independent variables. For example, the 'Readmis,' which is a variable that indicates whether or not the patient was readmitted, is a binary categorical variable. This assignment shows the relationship between the dependent variable and independent variables such as Age, Income, TotalCharge, and Additional_Charge, etc. From there, the business will predict which variables are the most important to predicting which patients are at high risk of readmission. There is no high multicollinearity among the predictors."
   ]
  },
  {
   "cell_type": "markdown",
   "id": "3c7908d0",
   "metadata": {},
   "source": [
    "**C. The preparation processs:**"
   ]
  },
  {
   "cell_type": "markdown",
   "id": "1ce5ccf6",
   "metadata": {},
   "source": [
    "**C1. Steps for preparation:**\n",
    "\n",
    "1. Install necessary packages\n",
    "2. Read and check the data set in Python using Pandas' read_csv command\n",
    "3. Naming the dataset as the variable \"medical_df\" and subsequent proper slices of the data frame as \"medical_df\".\n",
    "4. Evaluate the data structure to understand input data better\n",
    "5. Drop the less meaningful variables\n",
    "6. Re-validate column, null values and find missing values.\n",
    "7. Display any duplicate rows in the data frame.\n",
    "8. Creat dummy columns\n",
    "9. Categorical Encoding Values with multiple categories.\n",
    "10. Categorical Encoding Values with two types, Yes/No.\n",
    "11. Univariate and bivariate (C4. Univariate and Bivariate visualizations)\n",
    "12. Check for outliers. (C4. Univariate and Bivariate visualizations)\n",
    "13. Show the prepared data. (C5. The prepared data set copy)"
   ]
  },
  {
   "cell_type": "markdown",
   "id": "b66bd03f",
   "metadata": {},
   "source": [
    "**C2. Summary statitics**\n",
    "\n",
    "I chose the medical dataset for this performance assignment by using medical_clean.cvs file.\n",
    "The medical_clean data set is 10000 patient records in the medical industry and 50 columns (variables).\n",
    "The dependent variable is 'ReAdmis'.\n",
    "\n",
    "During this prepare process, will drop all less meaningful variables: 'CaseOrder','Customer_id','Interaction','UID','City','State','County','Zip','Lat','Lng','Population','Area','TimeZone','Job','Children','Marital','VitD_levels','Doc_visits','Full_meals_eaten','vitD_supp','Item1','Item2','Item3','Item4','Item5','Item6','Item7','Item8'\n",
    "\n",
    "Second, I will encoding all categorial values with multiple categories and two types yes/no value: 'Gender','ReAdmis','Soft_drink','Initial_admin','HighBlood','Stroke','Complication_risk','Overweight','Arthritis','Diabetes','Hyperlipidemia','BackPain','Anxiety','Allergic_rhinitis','Reflux_esophagitis','Asthma','Services'\n",
    "\n",
    "Continuous predictor variables: Age, Income, Initial_days, TotalCharge, Additional_charges\n",
    "\n",
    "Categorical predictor variables: Gender, Soft_drink, Initial_admin, HighBlood, Stroke, Complication_risk, Overweight, Arthritis, Diabetes, Hyperlipidemia, BackPain, Anxiety\tAllergic_rhinitis, Reflux_esophagitis, Asthma, Services\n",
    "\n",
    "Age: This variable indicates the patient’s age as provided by the patient. The variable represents customer demographic data. The data type is an integer.\n",
    "\n",
    "Income: This variable indicates the annual income of the patient (or the primary insurance holder) as provided by the patient. The variable represents customer demographic data. The data type is numeric.\n",
    "\n",
    "Initial_days: This variable indicates the number of days the patient stayed in the hospital during the initial visit. The data type is numeric. \n",
    "\n",
    "TotalCharge: This variable indicates the patient’s average daily charges for typical (not specialized) treatments and services during the initial visit. The data type is numeric.\n",
    "\n",
    "Additional_charges: This variable indicates the patient’s average daily charges for additional treatments and services during the initial visit. The data type is numeric.\n",
    "\n",
    "Gender: This variable indicates the patient’s gender as provided by the patient. The nominal categorical variable represents customer demographic data. The data type is a character string.\n",
    "\n",
    "Soft_drink: This variable indicates the whether or not the patient regularly drinks three or more sodas in a day.  This is a binary categorical variable. The value is yes/no. The data type is a character string.\n",
    "\n",
    "Initial_admin: This variable indicates how the patient was initially admitted into the hospital. The is the nominal categorical variable. The data type is a character string.\n",
    "\n",
    "HighBlood: This variable indicates whether or not the patient has high blood pressure. This is a binary categorical variable. The value is yes/no. The data type is a character string.\n",
    "\n",
    "Stroke: This variable indicates whether or not the patient has had a stroke. This is a binary categorical variable. The data type is a character string.\n",
    "\n",
    "Complication_risk: This variable indicates the level of complication risk. This is an ordinal categorical variable. The value is high/medium/low. The data type is a character string.\n",
    "\n",
    "Overweight: This variable indicates whether the patient is overweight, as determined by age, gender, and height. This is a binary categorical variable. The value is 1 for yes, and 0 for no. The data type is an integer.\n",
    "\n",
    "Arthritis: This variable indicates whether or not the patient has arthritis. This is a binary categorical variable. The value is yes/no. The data type is a character string.\n",
    "\n",
    "Diabetes: This variable indicates whether or not the patient has diabetes. This is a binary categorical variable. The value is yes/no. The data type is a character string.\n",
    "\n",
    "Hyperlipidemia: This variable indicates whether or not the patient has hyperlipidemia. This is a binary categorical variable. The value is yes/no. The data type is a character string.\n",
    "\n",
    "BackPain: This variable indicates whether or not the patient has chronic back pain. This is a binary categorical variable. The value is yes/no. The data type is a character string.\n",
    "\n",
    "Anxiety: This variable indicates whether the patient has an anxiety disorder. This is a binary categorical variable. The value is 1 for yes and 0 for no. The data type is an integer.\n",
    "\n",
    "Allergic_rhinitis: This variable indicates whether or not the patient has allergic rhinitis. This is a binary categorical variable. The value is yes/no. The data type is a character string.\n",
    "\n",
    "Reflux_esophagitis: This variable indicates whether or not the patient has reflux esophagitis. This is a binary categorical variable. The value is yes/no. The data type is a character string.\n",
    "\n",
    "Asthma: This variable indicates whether or not the patient has asthma. This is a binary categorical variable. The value is yes/no. The data type is a character string.\n",
    "\n",
    "Services: This variable indicates the primary service the patient received while hospitalized. This is a nominal categorical variable. The data type is a character string.\n"
   ]
  },
  {
   "cell_type": "markdown",
   "id": "6ee31199",
   "metadata": {},
   "source": [
    "**C3. Explain the steps**"
   ]
  },
  {
   "cell_type": "code",
   "execution_count": 1,
   "id": "c20301d2",
   "metadata": {},
   "outputs": [
    {
     "name": "stdout",
     "output_type": "stream",
     "text": [
      "Requirement already satisfied: pandas in c:\\users\\chris mcgee\\anaconda3\\lib\\site-packages (1.2.4)\n",
      "Requirement already satisfied: python-dateutil>=2.7.3 in c:\\users\\chris mcgee\\anaconda3\\lib\\site-packages (from pandas) (2.8.1)\n",
      "Requirement already satisfied: pytz>=2017.3 in c:\\users\\chris mcgee\\anaconda3\\lib\\site-packages (from pandas) (2021.1)\n",
      "Requirement already satisfied: numpy>=1.16.5 in c:\\users\\chris mcgee\\anaconda3\\lib\\site-packages (from pandas) (1.20.1)\n",
      "Requirement already satisfied: six>=1.5 in c:\\users\\chris mcgee\\anaconda3\\lib\\site-packages (from python-dateutil>=2.7.3->pandas) (1.15.0)\n",
      "Requirement already satisfied: numpy in c:\\users\\chris mcgee\\anaconda3\\lib\\site-packages (1.20.1)\n",
      "Requirement already satisfied: scipy in c:\\users\\chris mcgee\\anaconda3\\lib\\site-packages (1.6.2)\n",
      "Requirement already satisfied: numpy<1.23.0,>=1.16.5 in c:\\users\\chris mcgee\\anaconda3\\lib\\site-packages (from scipy) (1.20.1)\n",
      "Requirement already satisfied: sklearn in c:\\users\\chris mcgee\\anaconda3\\lib\\site-packages (0.0)\n",
      "Requirement already satisfied: scikit-learn in c:\\users\\chris mcgee\\anaconda3\\lib\\site-packages (from sklearn) (0.24.1)\n",
      "Requirement already satisfied: joblib>=0.11 in c:\\users\\chris mcgee\\anaconda3\\lib\\site-packages (from scikit-learn->sklearn) (1.0.1)\n",
      "Requirement already satisfied: scipy>=0.19.1 in c:\\users\\chris mcgee\\anaconda3\\lib\\site-packages (from scikit-learn->sklearn) (1.6.2)\n",
      "Requirement already satisfied: threadpoolctl>=2.0.0 in c:\\users\\chris mcgee\\anaconda3\\lib\\site-packages (from scikit-learn->sklearn) (2.1.0)\n",
      "Requirement already satisfied: numpy>=1.13.3 in c:\\users\\chris mcgee\\anaconda3\\lib\\site-packages (from scikit-learn->sklearn) (1.20.1)\n",
      "Requirement already satisfied: matplotlib in c:\\users\\chris mcgee\\anaconda3\\lib\\site-packages (3.3.4)\n",
      "Requirement already satisfied: pillow>=6.2.0 in c:\\users\\chris mcgee\\anaconda3\\lib\\site-packages (from matplotlib) (8.2.0)\n",
      "Requirement already satisfied: kiwisolver>=1.0.1 in c:\\users\\chris mcgee\\anaconda3\\lib\\site-packages (from matplotlib) (1.3.1)\n",
      "Requirement already satisfied: python-dateutil>=2.1 in c:\\users\\chris mcgee\\anaconda3\\lib\\site-packages (from matplotlib) (2.8.1)\n",
      "Requirement already satisfied: pyparsing!=2.0.4,!=2.1.2,!=2.1.6,>=2.0.3 in c:\\users\\chris mcgee\\anaconda3\\lib\\site-packages (from matplotlib) (2.4.7)\n",
      "Requirement already satisfied: cycler>=0.10 in c:\\users\\chris mcgee\\anaconda3\\lib\\site-packages (from matplotlib) (0.10.0)\n",
      "Requirement already satisfied: numpy>=1.15 in c:\\users\\chris mcgee\\anaconda3\\lib\\site-packages (from matplotlib) (1.20.1)\n",
      "Requirement already satisfied: six in c:\\users\\chris mcgee\\anaconda3\\lib\\site-packages (from cycler>=0.10->matplotlib) (1.15.0)\n",
      "Requirement already satisfied: sns in c:\\users\\chris mcgee\\anaconda3\\lib\\site-packages (0.1)\n",
      "Requirement already satisfied: plotly in c:\\users\\chris mcgee\\anaconda3\\lib\\site-packages (5.4.0)\n",
      "Requirement already satisfied: tenacity>=6.2.0 in c:\\users\\chris mcgee\\anaconda3\\lib\\site-packages (from plotly) (8.0.1)\n",
      "Requirement already satisfied: six in c:\\users\\chris mcgee\\anaconda3\\lib\\site-packages (from plotly) (1.15.0)\n",
      "Requirement already satisfied: missingno in c:\\users\\chris mcgee\\anaconda3\\lib\\site-packages (0.5.0)\n",
      "Requirement already satisfied: matplotlib in c:\\users\\chris mcgee\\anaconda3\\lib\\site-packages (from missingno) (3.3.4)\n",
      "Requirement already satisfied: scipy in c:\\users\\chris mcgee\\anaconda3\\lib\\site-packages (from missingno) (1.6.2)\n",
      "Requirement already satisfied: numpy in c:\\users\\chris mcgee\\anaconda3\\lib\\site-packages (from missingno) (1.20.1)\n",
      "Requirement already satisfied: seaborn in c:\\users\\chris mcgee\\anaconda3\\lib\\site-packages (from missingno) (0.11.1)\n",
      "Requirement already satisfied: pillow>=6.2.0 in c:\\users\\chris mcgee\\anaconda3\\lib\\site-packages (from matplotlib->missingno) (8.2.0)\n",
      "Requirement already satisfied: cycler>=0.10 in c:\\users\\chris mcgee\\anaconda3\\lib\\site-packages (from matplotlib->missingno) (0.10.0)\n",
      "Requirement already satisfied: pyparsing!=2.0.4,!=2.1.2,!=2.1.6,>=2.0.3 in c:\\users\\chris mcgee\\anaconda3\\lib\\site-packages (from matplotlib->missingno) (2.4.7)\n",
      "Requirement already satisfied: kiwisolver>=1.0.1 in c:\\users\\chris mcgee\\anaconda3\\lib\\site-packages (from matplotlib->missingno) (1.3.1)\n",
      "Requirement already satisfied: python-dateutil>=2.1 in c:\\users\\chris mcgee\\anaconda3\\lib\\site-packages (from matplotlib->missingno) (2.8.1)\n",
      "Requirement already satisfied: six in c:\\users\\chris mcgee\\anaconda3\\lib\\site-packages (from cycler>=0.10->matplotlib->missingno) (1.15.0)\n",
      "Requirement already satisfied: pandas>=0.23 in c:\\users\\chris mcgee\\anaconda3\\lib\\site-packages (from seaborn->missingno) (1.2.4)\n",
      "Requirement already satisfied: pytz>=2017.3 in c:\\users\\chris mcgee\\anaconda3\\lib\\site-packages (from pandas>=0.23->seaborn->missingno) (2021.1)\n"
     ]
    }
   ],
   "source": [
    "#1. Install necessary packages\n",
    "\n",
    "# Install necessary packages\n",
    "!pip install pandas\n",
    "!pip install numpy\n",
    "!pip install scipy\n",
    "!pip install sklearn\n",
    "!pip install matplotlib\n",
    "!pip install sns\n",
    "!pip install plotly\n",
    "!pip install missingno\n",
    "# I'm sharing the computer with the family members. The file path may show his name. \n",
    "# Please watch the video to see the file path."
   ]
  },
  {
   "cell_type": "code",
   "execution_count": 2,
   "id": "c5dd838d",
   "metadata": {},
   "outputs": [],
   "source": [
    "# Ignor warning error\n",
    "import warnings\n",
    "warnings.filterwarnings('ignore')\n",
    "\n",
    "# Standard imports\n",
    "import os\n",
    "import sys\n",
    "import pandas as pd\n",
    "from pandas import Series, DataFrame\n",
    "import numpy as np\n",
    "import matplotlib.pyplot as plt\n",
    "import matplotlib.mlab as mlab\n",
    "import seaborn as sns\n",
    "from plotly.subplots import make_subplots\n",
    "import plotly.graph_objs as go\n",
    "import missingno as msno\n",
    "\n",
    "# Import statistics packages\n",
    "import pylab\n",
    "import statsmodels.api as sm\n",
    "from statsmodels.formula.api import ols\n",
    "import statistics\n",
    "from scipy import stats\n",
    "from scipy.stats import chisquare\n",
    "from scipy.stats import chi2_contingency\n",
    "\n",
    "# Import Scikit-learn for regression models\n",
    "import sklearn\n",
    "from sklearn import preprocessing\n",
    "from sklearn.linear_model import LinearRegression\n",
    "from sklearn.model_selection import train_test_split\n",
    "from sklearn import metrics\n",
    "from sklearn.metrics import classification_report\n"
   ]
  },
  {
   "cell_type": "code",
   "execution_count": 3,
   "id": "adcc0db0",
   "metadata": {},
   "outputs": [],
   "source": [
    "#2. Read and check the data set in Python using Pandas' read_csv command\n",
    "path = 'medical_clean.csv'\n",
    "medical_df_clean = pd.read_csv(path)"
   ]
  },
  {
   "cell_type": "code",
   "execution_count": 4,
   "id": "bed819bc",
   "metadata": {},
   "outputs": [
    {
     "data": {
      "text/html": [
       "<div>\n",
       "<style scoped>\n",
       "    .dataframe tbody tr th:only-of-type {\n",
       "        vertical-align: middle;\n",
       "    }\n",
       "\n",
       "    .dataframe tbody tr th {\n",
       "        vertical-align: top;\n",
       "    }\n",
       "\n",
       "    .dataframe thead th {\n",
       "        text-align: right;\n",
       "    }\n",
       "</style>\n",
       "<table border=\"1\" class=\"dataframe\">\n",
       "  <thead>\n",
       "    <tr style=\"text-align: right;\">\n",
       "      <th></th>\n",
       "      <th>CaseOrder</th>\n",
       "      <th>Customer_id</th>\n",
       "      <th>Interaction</th>\n",
       "      <th>UID</th>\n",
       "      <th>City</th>\n",
       "      <th>State</th>\n",
       "      <th>County</th>\n",
       "      <th>Zip</th>\n",
       "      <th>Lat</th>\n",
       "      <th>Lng</th>\n",
       "      <th>...</th>\n",
       "      <th>TotalCharge</th>\n",
       "      <th>Additional_charges</th>\n",
       "      <th>Item1</th>\n",
       "      <th>Item2</th>\n",
       "      <th>Item3</th>\n",
       "      <th>Item4</th>\n",
       "      <th>Item5</th>\n",
       "      <th>Item6</th>\n",
       "      <th>Item7</th>\n",
       "      <th>Item8</th>\n",
       "    </tr>\n",
       "  </thead>\n",
       "  <tbody>\n",
       "    <tr>\n",
       "      <th>0</th>\n",
       "      <td>1</td>\n",
       "      <td>C412403</td>\n",
       "      <td>8cd49b13-f45a-4b47-a2bd-173ffa932c2f</td>\n",
       "      <td>3a83ddb66e2ae73798bdf1d705dc0932</td>\n",
       "      <td>Eva</td>\n",
       "      <td>AL</td>\n",
       "      <td>Morgan</td>\n",
       "      <td>35621</td>\n",
       "      <td>34.34960</td>\n",
       "      <td>-86.72508</td>\n",
       "      <td>...</td>\n",
       "      <td>3726.702860</td>\n",
       "      <td>17939.403420</td>\n",
       "      <td>3</td>\n",
       "      <td>3</td>\n",
       "      <td>2</td>\n",
       "      <td>2</td>\n",
       "      <td>4</td>\n",
       "      <td>3</td>\n",
       "      <td>3</td>\n",
       "      <td>4</td>\n",
       "    </tr>\n",
       "    <tr>\n",
       "      <th>1</th>\n",
       "      <td>2</td>\n",
       "      <td>Z919181</td>\n",
       "      <td>d2450b70-0337-4406-bdbb-bc1037f1734c</td>\n",
       "      <td>176354c5eef714957d486009feabf195</td>\n",
       "      <td>Marianna</td>\n",
       "      <td>FL</td>\n",
       "      <td>Jackson</td>\n",
       "      <td>32446</td>\n",
       "      <td>30.84513</td>\n",
       "      <td>-85.22907</td>\n",
       "      <td>...</td>\n",
       "      <td>4193.190458</td>\n",
       "      <td>17612.998120</td>\n",
       "      <td>3</td>\n",
       "      <td>4</td>\n",
       "      <td>3</td>\n",
       "      <td>4</td>\n",
       "      <td>4</td>\n",
       "      <td>4</td>\n",
       "      <td>3</td>\n",
       "      <td>3</td>\n",
       "    </tr>\n",
       "    <tr>\n",
       "      <th>2</th>\n",
       "      <td>3</td>\n",
       "      <td>F995323</td>\n",
       "      <td>a2057123-abf5-4a2c-abad-8ffe33512562</td>\n",
       "      <td>e19a0fa00aeda885b8a436757e889bc9</td>\n",
       "      <td>Sioux Falls</td>\n",
       "      <td>SD</td>\n",
       "      <td>Minnehaha</td>\n",
       "      <td>57110</td>\n",
       "      <td>43.54321</td>\n",
       "      <td>-96.63772</td>\n",
       "      <td>...</td>\n",
       "      <td>2434.234222</td>\n",
       "      <td>17505.192460</td>\n",
       "      <td>2</td>\n",
       "      <td>4</td>\n",
       "      <td>4</td>\n",
       "      <td>4</td>\n",
       "      <td>3</td>\n",
       "      <td>4</td>\n",
       "      <td>3</td>\n",
       "      <td>3</td>\n",
       "    </tr>\n",
       "    <tr>\n",
       "      <th>3</th>\n",
       "      <td>4</td>\n",
       "      <td>A879973</td>\n",
       "      <td>1dec528d-eb34-4079-adce-0d7a40e82205</td>\n",
       "      <td>cd17d7b6d152cb6f23957346d11c3f07</td>\n",
       "      <td>New Richland</td>\n",
       "      <td>MN</td>\n",
       "      <td>Waseca</td>\n",
       "      <td>56072</td>\n",
       "      <td>43.89744</td>\n",
       "      <td>-93.51479</td>\n",
       "      <td>...</td>\n",
       "      <td>2127.830423</td>\n",
       "      <td>12993.437350</td>\n",
       "      <td>3</td>\n",
       "      <td>5</td>\n",
       "      <td>5</td>\n",
       "      <td>3</td>\n",
       "      <td>4</td>\n",
       "      <td>5</td>\n",
       "      <td>5</td>\n",
       "      <td>5</td>\n",
       "    </tr>\n",
       "    <tr>\n",
       "      <th>4</th>\n",
       "      <td>5</td>\n",
       "      <td>C544523</td>\n",
       "      <td>5885f56b-d6da-43a3-8760-83583af94266</td>\n",
       "      <td>d2f0425877b10ed6bb381f3e2579424a</td>\n",
       "      <td>West Point</td>\n",
       "      <td>VA</td>\n",
       "      <td>King William</td>\n",
       "      <td>23181</td>\n",
       "      <td>37.59894</td>\n",
       "      <td>-76.88958</td>\n",
       "      <td>...</td>\n",
       "      <td>2113.073274</td>\n",
       "      <td>3716.525786</td>\n",
       "      <td>2</td>\n",
       "      <td>1</td>\n",
       "      <td>3</td>\n",
       "      <td>3</td>\n",
       "      <td>5</td>\n",
       "      <td>3</td>\n",
       "      <td>4</td>\n",
       "      <td>3</td>\n",
       "    </tr>\n",
       "  </tbody>\n",
       "</table>\n",
       "<p>5 rows × 50 columns</p>\n",
       "</div>"
      ],
      "text/plain": [
       "   CaseOrder Customer_id                           Interaction  \\\n",
       "0          1     C412403  8cd49b13-f45a-4b47-a2bd-173ffa932c2f   \n",
       "1          2     Z919181  d2450b70-0337-4406-bdbb-bc1037f1734c   \n",
       "2          3     F995323  a2057123-abf5-4a2c-abad-8ffe33512562   \n",
       "3          4     A879973  1dec528d-eb34-4079-adce-0d7a40e82205   \n",
       "4          5     C544523  5885f56b-d6da-43a3-8760-83583af94266   \n",
       "\n",
       "                                UID          City State        County    Zip  \\\n",
       "0  3a83ddb66e2ae73798bdf1d705dc0932           Eva    AL        Morgan  35621   \n",
       "1  176354c5eef714957d486009feabf195      Marianna    FL       Jackson  32446   \n",
       "2  e19a0fa00aeda885b8a436757e889bc9   Sioux Falls    SD     Minnehaha  57110   \n",
       "3  cd17d7b6d152cb6f23957346d11c3f07  New Richland    MN        Waseca  56072   \n",
       "4  d2f0425877b10ed6bb381f3e2579424a    West Point    VA  King William  23181   \n",
       "\n",
       "        Lat       Lng  ...  TotalCharge Additional_charges Item1 Item2  Item3  \\\n",
       "0  34.34960 -86.72508  ...  3726.702860       17939.403420     3     3      2   \n",
       "1  30.84513 -85.22907  ...  4193.190458       17612.998120     3     4      3   \n",
       "2  43.54321 -96.63772  ...  2434.234222       17505.192460     2     4      4   \n",
       "3  43.89744 -93.51479  ...  2127.830423       12993.437350     3     5      5   \n",
       "4  37.59894 -76.88958  ...  2113.073274        3716.525786     2     1      3   \n",
       "\n",
       "   Item4  Item5 Item6 Item7 Item8  \n",
       "0      2      4     3     3     4  \n",
       "1      4      4     4     3     3  \n",
       "2      4      3     4     3     3  \n",
       "3      3      4     5     5     5  \n",
       "4      3      5     3     4     3  \n",
       "\n",
       "[5 rows x 50 columns]"
      ]
     },
     "execution_count": 4,
     "metadata": {},
     "output_type": "execute_result"
    }
   ],
   "source": [
    "#3.Display Medical dataframe\n",
    "medical_df = medical_df_clean.copy()\n",
    "medical_df.head()"
   ]
  },
  {
   "cell_type": "code",
   "execution_count": 5,
   "id": "7861545d",
   "metadata": {},
   "outputs": [
    {
     "name": "stdout",
     "output_type": "stream",
     "text": [
      "<class 'pandas.core.frame.DataFrame'>\n",
      "RangeIndex: 10000 entries, 0 to 9999\n",
      "Data columns (total 50 columns):\n",
      " #   Column              Non-Null Count  Dtype  \n",
      "---  ------              --------------  -----  \n",
      " 0   CaseOrder           10000 non-null  int64  \n",
      " 1   Customer_id         10000 non-null  object \n",
      " 2   Interaction         10000 non-null  object \n",
      " 3   UID                 10000 non-null  object \n",
      " 4   City                10000 non-null  object \n",
      " 5   State               10000 non-null  object \n",
      " 6   County              10000 non-null  object \n",
      " 7   Zip                 10000 non-null  int64  \n",
      " 8   Lat                 10000 non-null  float64\n",
      " 9   Lng                 10000 non-null  float64\n",
      " 10  Population          10000 non-null  int64  \n",
      " 11  Area                10000 non-null  object \n",
      " 12  TimeZone            10000 non-null  object \n",
      " 13  Job                 10000 non-null  object \n",
      " 14  Children            10000 non-null  int64  \n",
      " 15  Age                 10000 non-null  int64  \n",
      " 16  Income              10000 non-null  float64\n",
      " 17  Marital             10000 non-null  object \n",
      " 18  Gender              10000 non-null  object \n",
      " 19  ReAdmis             10000 non-null  object \n",
      " 20  VitD_levels         10000 non-null  float64\n",
      " 21  Doc_visits          10000 non-null  int64  \n",
      " 22  Full_meals_eaten    10000 non-null  int64  \n",
      " 23  vitD_supp           10000 non-null  int64  \n",
      " 24  Soft_drink          10000 non-null  object \n",
      " 25  Initial_admin       10000 non-null  object \n",
      " 26  HighBlood           10000 non-null  object \n",
      " 27  Stroke              10000 non-null  object \n",
      " 28  Complication_risk   10000 non-null  object \n",
      " 29  Overweight          10000 non-null  object \n",
      " 30  Arthritis           10000 non-null  object \n",
      " 31  Diabetes            10000 non-null  object \n",
      " 32  Hyperlipidemia      10000 non-null  object \n",
      " 33  BackPain            10000 non-null  object \n",
      " 34  Anxiety             10000 non-null  object \n",
      " 35  Allergic_rhinitis   10000 non-null  object \n",
      " 36  Reflux_esophagitis  10000 non-null  object \n",
      " 37  Asthma              10000 non-null  object \n",
      " 38  Services            10000 non-null  object \n",
      " 39  Initial_days        10000 non-null  float64\n",
      " 40  TotalCharge         10000 non-null  float64\n",
      " 41  Additional_charges  10000 non-null  float64\n",
      " 42  Item1               10000 non-null  int64  \n",
      " 43  Item2               10000 non-null  int64  \n",
      " 44  Item3               10000 non-null  int64  \n",
      " 45  Item4               10000 non-null  int64  \n",
      " 46  Item5               10000 non-null  int64  \n",
      " 47  Item6               10000 non-null  int64  \n",
      " 48  Item7               10000 non-null  int64  \n",
      " 49  Item8               10000 non-null  int64  \n",
      "dtypes: float64(7), int64(16), object(27)\n",
      "memory usage: 3.8+ MB\n"
     ]
    }
   ],
   "source": [
    "#4. Evaluate the data structure to understand input data better\n",
    "# Check the information of data\n",
    "medical_df.info()"
   ]
  },
  {
   "cell_type": "code",
   "execution_count": 6,
   "id": "54527b59",
   "metadata": {},
   "outputs": [
    {
     "data": {
      "text/html": [
       "<div>\n",
       "<style scoped>\n",
       "    .dataframe tbody tr th:only-of-type {\n",
       "        vertical-align: middle;\n",
       "    }\n",
       "\n",
       "    .dataframe tbody tr th {\n",
       "        vertical-align: top;\n",
       "    }\n",
       "\n",
       "    .dataframe thead th {\n",
       "        text-align: right;\n",
       "    }\n",
       "</style>\n",
       "<table border=\"1\" class=\"dataframe\">\n",
       "  <thead>\n",
       "    <tr style=\"text-align: right;\">\n",
       "      <th></th>\n",
       "      <th>CaseOrder</th>\n",
       "      <th>Zip</th>\n",
       "      <th>Lat</th>\n",
       "      <th>Lng</th>\n",
       "      <th>Population</th>\n",
       "      <th>Children</th>\n",
       "      <th>Age</th>\n",
       "      <th>Income</th>\n",
       "      <th>VitD_levels</th>\n",
       "      <th>Doc_visits</th>\n",
       "      <th>...</th>\n",
       "      <th>TotalCharge</th>\n",
       "      <th>Additional_charges</th>\n",
       "      <th>Item1</th>\n",
       "      <th>Item2</th>\n",
       "      <th>Item3</th>\n",
       "      <th>Item4</th>\n",
       "      <th>Item5</th>\n",
       "      <th>Item6</th>\n",
       "      <th>Item7</th>\n",
       "      <th>Item8</th>\n",
       "    </tr>\n",
       "  </thead>\n",
       "  <tbody>\n",
       "    <tr>\n",
       "      <th>count</th>\n",
       "      <td>10000.00000</td>\n",
       "      <td>10000.000000</td>\n",
       "      <td>10000.000000</td>\n",
       "      <td>10000.000000</td>\n",
       "      <td>10000.000000</td>\n",
       "      <td>10000.000000</td>\n",
       "      <td>10000.000000</td>\n",
       "      <td>10000.000000</td>\n",
       "      <td>10000.000000</td>\n",
       "      <td>10000.000000</td>\n",
       "      <td>...</td>\n",
       "      <td>10000.000000</td>\n",
       "      <td>10000.000000</td>\n",
       "      <td>10000.000000</td>\n",
       "      <td>10000.000000</td>\n",
       "      <td>10000.000000</td>\n",
       "      <td>10000.000000</td>\n",
       "      <td>10000.000000</td>\n",
       "      <td>10000.000000</td>\n",
       "      <td>10000.000000</td>\n",
       "      <td>10000.000000</td>\n",
       "    </tr>\n",
       "    <tr>\n",
       "      <th>mean</th>\n",
       "      <td>5000.50000</td>\n",
       "      <td>50159.323900</td>\n",
       "      <td>38.751099</td>\n",
       "      <td>-91.243080</td>\n",
       "      <td>9965.253800</td>\n",
       "      <td>2.097200</td>\n",
       "      <td>53.511700</td>\n",
       "      <td>40490.495160</td>\n",
       "      <td>17.964262</td>\n",
       "      <td>5.012200</td>\n",
       "      <td>...</td>\n",
       "      <td>5312.172769</td>\n",
       "      <td>12934.528587</td>\n",
       "      <td>3.518800</td>\n",
       "      <td>3.506700</td>\n",
       "      <td>3.511100</td>\n",
       "      <td>3.515100</td>\n",
       "      <td>3.496900</td>\n",
       "      <td>3.522500</td>\n",
       "      <td>3.494000</td>\n",
       "      <td>3.509700</td>\n",
       "    </tr>\n",
       "    <tr>\n",
       "      <th>std</th>\n",
       "      <td>2886.89568</td>\n",
       "      <td>27469.588208</td>\n",
       "      <td>5.403085</td>\n",
       "      <td>15.205998</td>\n",
       "      <td>14824.758614</td>\n",
       "      <td>2.163659</td>\n",
       "      <td>20.638538</td>\n",
       "      <td>28521.153293</td>\n",
       "      <td>2.017231</td>\n",
       "      <td>1.045734</td>\n",
       "      <td>...</td>\n",
       "      <td>2180.393838</td>\n",
       "      <td>6542.601544</td>\n",
       "      <td>1.031966</td>\n",
       "      <td>1.034825</td>\n",
       "      <td>1.032755</td>\n",
       "      <td>1.036282</td>\n",
       "      <td>1.030192</td>\n",
       "      <td>1.032376</td>\n",
       "      <td>1.021405</td>\n",
       "      <td>1.042312</td>\n",
       "    </tr>\n",
       "    <tr>\n",
       "      <th>min</th>\n",
       "      <td>1.00000</td>\n",
       "      <td>610.000000</td>\n",
       "      <td>17.967190</td>\n",
       "      <td>-174.209700</td>\n",
       "      <td>0.000000</td>\n",
       "      <td>0.000000</td>\n",
       "      <td>18.000000</td>\n",
       "      <td>154.080000</td>\n",
       "      <td>9.806483</td>\n",
       "      <td>1.000000</td>\n",
       "      <td>...</td>\n",
       "      <td>1938.312067</td>\n",
       "      <td>3125.703000</td>\n",
       "      <td>1.000000</td>\n",
       "      <td>1.000000</td>\n",
       "      <td>1.000000</td>\n",
       "      <td>1.000000</td>\n",
       "      <td>1.000000</td>\n",
       "      <td>1.000000</td>\n",
       "      <td>1.000000</td>\n",
       "      <td>1.000000</td>\n",
       "    </tr>\n",
       "    <tr>\n",
       "      <th>25%</th>\n",
       "      <td>2500.75000</td>\n",
       "      <td>27592.000000</td>\n",
       "      <td>35.255120</td>\n",
       "      <td>-97.352982</td>\n",
       "      <td>694.750000</td>\n",
       "      <td>0.000000</td>\n",
       "      <td>36.000000</td>\n",
       "      <td>19598.775000</td>\n",
       "      <td>16.626439</td>\n",
       "      <td>4.000000</td>\n",
       "      <td>...</td>\n",
       "      <td>3179.374015</td>\n",
       "      <td>7986.487755</td>\n",
       "      <td>3.000000</td>\n",
       "      <td>3.000000</td>\n",
       "      <td>3.000000</td>\n",
       "      <td>3.000000</td>\n",
       "      <td>3.000000</td>\n",
       "      <td>3.000000</td>\n",
       "      <td>3.000000</td>\n",
       "      <td>3.000000</td>\n",
       "    </tr>\n",
       "    <tr>\n",
       "      <th>50%</th>\n",
       "      <td>5000.50000</td>\n",
       "      <td>50207.000000</td>\n",
       "      <td>39.419355</td>\n",
       "      <td>-88.397230</td>\n",
       "      <td>2769.000000</td>\n",
       "      <td>1.000000</td>\n",
       "      <td>53.000000</td>\n",
       "      <td>33768.420000</td>\n",
       "      <td>17.951122</td>\n",
       "      <td>5.000000</td>\n",
       "      <td>...</td>\n",
       "      <td>5213.952000</td>\n",
       "      <td>11573.977735</td>\n",
       "      <td>4.000000</td>\n",
       "      <td>3.000000</td>\n",
       "      <td>4.000000</td>\n",
       "      <td>4.000000</td>\n",
       "      <td>3.000000</td>\n",
       "      <td>4.000000</td>\n",
       "      <td>3.000000</td>\n",
       "      <td>3.000000</td>\n",
       "    </tr>\n",
       "    <tr>\n",
       "      <th>75%</th>\n",
       "      <td>7500.25000</td>\n",
       "      <td>72411.750000</td>\n",
       "      <td>42.044175</td>\n",
       "      <td>-80.438050</td>\n",
       "      <td>13945.000000</td>\n",
       "      <td>3.000000</td>\n",
       "      <td>71.000000</td>\n",
       "      <td>54296.402500</td>\n",
       "      <td>19.347963</td>\n",
       "      <td>6.000000</td>\n",
       "      <td>...</td>\n",
       "      <td>7459.699750</td>\n",
       "      <td>15626.490000</td>\n",
       "      <td>4.000000</td>\n",
       "      <td>4.000000</td>\n",
       "      <td>4.000000</td>\n",
       "      <td>4.000000</td>\n",
       "      <td>4.000000</td>\n",
       "      <td>4.000000</td>\n",
       "      <td>4.000000</td>\n",
       "      <td>4.000000</td>\n",
       "    </tr>\n",
       "    <tr>\n",
       "      <th>max</th>\n",
       "      <td>10000.00000</td>\n",
       "      <td>99929.000000</td>\n",
       "      <td>70.560990</td>\n",
       "      <td>-65.290170</td>\n",
       "      <td>122814.000000</td>\n",
       "      <td>10.000000</td>\n",
       "      <td>89.000000</td>\n",
       "      <td>207249.100000</td>\n",
       "      <td>26.394449</td>\n",
       "      <td>9.000000</td>\n",
       "      <td>...</td>\n",
       "      <td>9180.728000</td>\n",
       "      <td>30566.070000</td>\n",
       "      <td>8.000000</td>\n",
       "      <td>7.000000</td>\n",
       "      <td>8.000000</td>\n",
       "      <td>7.000000</td>\n",
       "      <td>7.000000</td>\n",
       "      <td>7.000000</td>\n",
       "      <td>7.000000</td>\n",
       "      <td>7.000000</td>\n",
       "    </tr>\n",
       "  </tbody>\n",
       "</table>\n",
       "<p>8 rows × 23 columns</p>\n",
       "</div>"
      ],
      "text/plain": [
       "         CaseOrder           Zip           Lat           Lng     Population  \\\n",
       "count  10000.00000  10000.000000  10000.000000  10000.000000   10000.000000   \n",
       "mean    5000.50000  50159.323900     38.751099    -91.243080    9965.253800   \n",
       "std     2886.89568  27469.588208      5.403085     15.205998   14824.758614   \n",
       "min        1.00000    610.000000     17.967190   -174.209700       0.000000   \n",
       "25%     2500.75000  27592.000000     35.255120    -97.352982     694.750000   \n",
       "50%     5000.50000  50207.000000     39.419355    -88.397230    2769.000000   \n",
       "75%     7500.25000  72411.750000     42.044175    -80.438050   13945.000000   \n",
       "max    10000.00000  99929.000000     70.560990    -65.290170  122814.000000   \n",
       "\n",
       "           Children           Age         Income   VitD_levels    Doc_visits  \\\n",
       "count  10000.000000  10000.000000   10000.000000  10000.000000  10000.000000   \n",
       "mean       2.097200     53.511700   40490.495160     17.964262      5.012200   \n",
       "std        2.163659     20.638538   28521.153293      2.017231      1.045734   \n",
       "min        0.000000     18.000000     154.080000      9.806483      1.000000   \n",
       "25%        0.000000     36.000000   19598.775000     16.626439      4.000000   \n",
       "50%        1.000000     53.000000   33768.420000     17.951122      5.000000   \n",
       "75%        3.000000     71.000000   54296.402500     19.347963      6.000000   \n",
       "max       10.000000     89.000000  207249.100000     26.394449      9.000000   \n",
       "\n",
       "       ...   TotalCharge  Additional_charges         Item1         Item2  \\\n",
       "count  ...  10000.000000        10000.000000  10000.000000  10000.000000   \n",
       "mean   ...   5312.172769        12934.528587      3.518800      3.506700   \n",
       "std    ...   2180.393838         6542.601544      1.031966      1.034825   \n",
       "min    ...   1938.312067         3125.703000      1.000000      1.000000   \n",
       "25%    ...   3179.374015         7986.487755      3.000000      3.000000   \n",
       "50%    ...   5213.952000        11573.977735      4.000000      3.000000   \n",
       "75%    ...   7459.699750        15626.490000      4.000000      4.000000   \n",
       "max    ...   9180.728000        30566.070000      8.000000      7.000000   \n",
       "\n",
       "              Item3         Item4         Item5         Item6         Item7  \\\n",
       "count  10000.000000  10000.000000  10000.000000  10000.000000  10000.000000   \n",
       "mean       3.511100      3.515100      3.496900      3.522500      3.494000   \n",
       "std        1.032755      1.036282      1.030192      1.032376      1.021405   \n",
       "min        1.000000      1.000000      1.000000      1.000000      1.000000   \n",
       "25%        3.000000      3.000000      3.000000      3.000000      3.000000   \n",
       "50%        4.000000      4.000000      3.000000      4.000000      3.000000   \n",
       "75%        4.000000      4.000000      4.000000      4.000000      4.000000   \n",
       "max        8.000000      7.000000      7.000000      7.000000      7.000000   \n",
       "\n",
       "              Item8  \n",
       "count  10000.000000  \n",
       "mean       3.509700  \n",
       "std        1.042312  \n",
       "min        1.000000  \n",
       "25%        3.000000  \n",
       "50%        3.000000  \n",
       "75%        4.000000  \n",
       "max        7.000000  \n",
       "\n",
       "[8 rows x 23 columns]"
      ]
     },
     "execution_count": 6,
     "metadata": {},
     "output_type": "execute_result"
    }
   ],
   "source": [
    "# Describe Churn dataset statistics\n",
    "medical_df.describe()"
   ]
  },
  {
   "cell_type": "code",
   "execution_count": 7,
   "id": "f7badab1",
   "metadata": {},
   "outputs": [
    {
     "data": {
      "text/html": [
       "<div>\n",
       "<style scoped>\n",
       "    .dataframe tbody tr th:only-of-type {\n",
       "        vertical-align: middle;\n",
       "    }\n",
       "\n",
       "    .dataframe tbody tr th {\n",
       "        vertical-align: top;\n",
       "    }\n",
       "\n",
       "    .dataframe thead th {\n",
       "        text-align: right;\n",
       "    }\n",
       "</style>\n",
       "<table border=\"1\" class=\"dataframe\">\n",
       "  <thead>\n",
       "    <tr style=\"text-align: right;\">\n",
       "      <th></th>\n",
       "      <th>Age</th>\n",
       "      <th>Income</th>\n",
       "      <th>Initial_days</th>\n",
       "      <th>TotalCharge</th>\n",
       "      <th>Additional_charges</th>\n",
       "    </tr>\n",
       "  </thead>\n",
       "  <tbody>\n",
       "    <tr>\n",
       "      <th>count</th>\n",
       "      <td>10000.000000</td>\n",
       "      <td>10000.000000</td>\n",
       "      <td>10000.000000</td>\n",
       "      <td>10000.000000</td>\n",
       "      <td>10000.000000</td>\n",
       "    </tr>\n",
       "    <tr>\n",
       "      <th>mean</th>\n",
       "      <td>53.511700</td>\n",
       "      <td>40490.495160</td>\n",
       "      <td>34.455299</td>\n",
       "      <td>5312.172769</td>\n",
       "      <td>12934.528587</td>\n",
       "    </tr>\n",
       "    <tr>\n",
       "      <th>std</th>\n",
       "      <td>20.638538</td>\n",
       "      <td>28521.153293</td>\n",
       "      <td>26.309341</td>\n",
       "      <td>2180.393838</td>\n",
       "      <td>6542.601544</td>\n",
       "    </tr>\n",
       "    <tr>\n",
       "      <th>min</th>\n",
       "      <td>18.000000</td>\n",
       "      <td>154.080000</td>\n",
       "      <td>1.001981</td>\n",
       "      <td>1938.312067</td>\n",
       "      <td>3125.703000</td>\n",
       "    </tr>\n",
       "    <tr>\n",
       "      <th>25%</th>\n",
       "      <td>36.000000</td>\n",
       "      <td>19598.775000</td>\n",
       "      <td>7.896215</td>\n",
       "      <td>3179.374015</td>\n",
       "      <td>7986.487755</td>\n",
       "    </tr>\n",
       "    <tr>\n",
       "      <th>50%</th>\n",
       "      <td>53.000000</td>\n",
       "      <td>33768.420000</td>\n",
       "      <td>35.836244</td>\n",
       "      <td>5213.952000</td>\n",
       "      <td>11573.977735</td>\n",
       "    </tr>\n",
       "    <tr>\n",
       "      <th>75%</th>\n",
       "      <td>71.000000</td>\n",
       "      <td>54296.402500</td>\n",
       "      <td>61.161020</td>\n",
       "      <td>7459.699750</td>\n",
       "      <td>15626.490000</td>\n",
       "    </tr>\n",
       "    <tr>\n",
       "      <th>max</th>\n",
       "      <td>89.000000</td>\n",
       "      <td>207249.100000</td>\n",
       "      <td>71.981490</td>\n",
       "      <td>9180.728000</td>\n",
       "      <td>30566.070000</td>\n",
       "    </tr>\n",
       "  </tbody>\n",
       "</table>\n",
       "</div>"
      ],
      "text/plain": [
       "                Age         Income  Initial_days   TotalCharge  \\\n",
       "count  10000.000000   10000.000000  10000.000000  10000.000000   \n",
       "mean      53.511700   40490.495160     34.455299   5312.172769   \n",
       "std       20.638538   28521.153293     26.309341   2180.393838   \n",
       "min       18.000000     154.080000      1.001981   1938.312067   \n",
       "25%       36.000000   19598.775000      7.896215   3179.374015   \n",
       "50%       53.000000   33768.420000     35.836244   5213.952000   \n",
       "75%       71.000000   54296.402500     61.161020   7459.699750   \n",
       "max       89.000000  207249.100000     71.981490   9180.728000   \n",
       "\n",
       "       Additional_charges  \n",
       "count        10000.000000  \n",
       "mean         12934.528587  \n",
       "std           6542.601544  \n",
       "min           3125.703000  \n",
       "25%           7986.487755  \n",
       "50%          11573.977735  \n",
       "75%          15626.490000  \n",
       "max          30566.070000  "
      ]
     },
     "execution_count": 7,
     "metadata": {},
     "output_type": "execute_result"
    }
   ],
   "source": [
    "#5. Drop the less meaningful variables\n",
    "medical_df = medical_df.drop(columns=['CaseOrder','Customer_id','Interaction','UID','City','State','County','Zip',\n",
    "                                      'Lat','Lng','Population','Area','TimeZone','Job','Children','Marital','VitD_levels',\n",
    "                                      'Doc_visits','Full_meals_eaten','vitD_supp','Item1','Item2','Item3','Item4','Item5',\n",
    "                                      'Item6','Item7','Item8'])\n",
    "medical_df.describe()\n",
    "\n"
   ]
  },
  {
   "cell_type": "code",
   "execution_count": 8,
   "id": "d07f0c35",
   "metadata": {},
   "outputs": [
    {
     "data": {
      "text/plain": [
       "{int64: ['Age'], float64: ['Income', 'Initial_days', 'TotalCharge', 'Additional_charges'], object: ['Gender', 'ReAdmis', 'Soft_drink', 'Initial_admin', 'HighBlood', 'Stroke', 'Complication_risk', 'Overweight', 'Arthritis', 'Diabetes', 'Hyperlipidemia', 'BackPain', 'Anxiety', 'Allergic_rhinitis', 'Reflux_esophagitis', 'Asthma', 'Services']}"
      ]
     },
     "execution_count": 8,
     "metadata": {},
     "output_type": "execute_result"
    }
   ],
   "source": [
    "#6. Re-validate column data types and missing value\n",
    "\n",
    "medical_df.columns.to_series().groupby(medical_df.dtypes).groups\n"
   ]
  },
  {
   "cell_type": "code",
   "execution_count": 9,
   "id": "b28ceedd",
   "metadata": {},
   "outputs": [
    {
     "name": "stdout",
     "output_type": "stream",
     "text": [
      "0\n"
     ]
    }
   ],
   "source": [
    "# check null values\n",
    "df = medical_df.columns\n",
    "data_nulls = df.isnull().sum()\n",
    "print(data_nulls)"
   ]
  },
  {
   "cell_type": "code",
   "execution_count": 10,
   "id": "0d22d87c",
   "metadata": {},
   "outputs": [
    {
     "name": "stdout",
     "output_type": "stream",
     "text": [
      "no missing values left\n"
     ]
    }
   ],
   "source": [
    "# check missing data and its size\n",
    "def missing_cols(medical_df):\n",
    "    '''prints out columns with its amount of missing values'''\n",
    "    total = 0\n",
    "    for col in medical_df.columns:\n",
    "        missing_vals = medical_df[col].isnull().sum()\n",
    "        total += missing_vals\n",
    "        if missing_vals != 0:\n",
    "            print(f\"{col} => {medical_df[col].isnull().sum()}\")\n",
    "    \n",
    "    if total == 0:\n",
    "        print(\"no missing values left\")\n",
    "            \n",
    "missing_cols(medical_df)"
   ]
  },
  {
   "cell_type": "code",
   "execution_count": 11,
   "id": "5b042ed7",
   "metadata": {},
   "outputs": [
    {
     "name": "stdout",
     "output_type": "stream",
     "text": [
      "Empty DataFrame\n",
      "Columns: [Age, Income, Gender, ReAdmis, Soft_drink, Initial_admin, HighBlood, Stroke, Complication_risk, Overweight, Arthritis, Diabetes, Hyperlipidemia, BackPain, Anxiety, Allergic_rhinitis, Reflux_esophagitis, Asthma, Services, Initial_days, TotalCharge, Additional_charges]\n",
      "Index: []\n",
      "\n",
      "[0 rows x 22 columns]\n"
     ]
    }
   ],
   "source": [
    "#7. Display any duplicate rows in the dataframe.\n",
    "data_duplicates = medical_df.loc[medical_df.duplicated()]\n",
    "print(data_duplicates)"
   ]
  },
  {
   "cell_type": "code",
   "execution_count": 12,
   "id": "fe16cfc3",
   "metadata": {},
   "outputs": [],
   "source": [
    "#8. Create dummy colunms\n",
    "medical_df['Initial_admin_dm'] = [1 if v == 'Elective Admission' else 0 for v in medical_df['Initial_admin']]\n",
    "medical_df['Complication_risk_dm'] = [1 if v == 'Medium' else 0 for v in medical_df['Complication_risk']]\n",
    "medical_df['Services_dm'] = [1 if v == 'Intravenous' else 0 for v in medical_df['Services']]\n",
    "medical_df['Gender_dm'] = [1 if v == 'Female' else 0 for v in medical_df['Gender']]\n",
    "medical_df['ReAdmis_dm'] = [1 if v == 'Yes' else 0 for v in medical_df['ReAdmis']]\n",
    "medical_df['Soft_drink_dm'] = [1 if v == 'Yes' else 0 for v in medical_df['Soft_drink']]\n",
    "medical_df['HighBlood_dm'] = [1 if v == 'Yes' else 0 for v in medical_df['HighBlood']]\n",
    "medical_df['Stroke_dm'] = [1 if v == 'Yes' else 0 for v in medical_df['Stroke']]\n",
    "medical_df['Overweight_dm'] = [1 if v == 'Yes' else 0 for v in medical_df['Overweight']]\n",
    "medical_df['Arthritis_dm'] = [1 if v == 'Yes' else 0 for v in medical_df['Arthritis']]\n",
    "medical_df['Hyperlipidemia_dm'] = [1 if v == 'Yes' else 0 for v in medical_df['Hyperlipidemia']]\n",
    "medical_df['Diabetes_dm'] = [1 if v == 'Yes' else 0 for v in medical_df['Diabetes']]\n",
    "medical_df['BackPain_dm'] = [1 if v == 'Yes' else 0 for v in medical_df['BackPain']]\n",
    "medical_df['Anxiety_dm'] = [1 if v == 'Yes' else 0 for v in medical_df['Anxiety']]\n",
    "medical_df['Allergic_rhinitis_dm'] = [1 if v == 'Yes' else 0 for v in medical_df['Allergic_rhinitis']]\n",
    "medical_df['Reflux_esophagitis_dm'] = [1 if v == 'Yes' else 0 for v in medical_df['Reflux_esophagitis']]\n",
    "medical_df['Asthma_dm'] = [1 if v == 'Yes' else 0 for v in medical_df['Asthma']]\n"
   ]
  },
  {
   "cell_type": "code",
   "execution_count": 13,
   "id": "453f2bcf",
   "metadata": {},
   "outputs": [
    {
     "data": {
      "text/plain": [
       "array([0, 1], dtype=int64)"
      ]
     },
     "execution_count": 13,
     "metadata": {},
     "output_type": "execute_result"
    }
   ],
   "source": [
    "#Check what values are assigned in the _dm variables.\n",
    "medical_df['Gender_dm'].unique() "
   ]
  },
  {
   "cell_type": "code",
   "execution_count": 14,
   "id": "dcd30c78",
   "metadata": {},
   "outputs": [],
   "source": [
    "#9. Categorical Encoding Values with multiple categories.\n",
    "\n",
    "cleanup_nums = {\"Initial_admin\":        {\"Emergency Admission\":     0, \n",
    "                                        \"Elective Admission\":       1 , \n",
    "                                       \"Observation Admission\":    2\n",
    "                                        },\n",
    "               \"Complication_risk\":    {\"High\":    0, \n",
    "                                        \"Medium\":   1, \n",
    "                                        \"Low\":      2\n",
    "                                        },\n",
    "               \"Services\":        {\"Blood Work\":       0, \n",
    "                                   \"Intravenous\":      1 , \n",
    "                                   \"CT Scan\":          2,\n",
    "                                   \"MRI\":              3\n",
    "                                    },\n",
    "               \"Gender\": {\"Male\": 0,\n",
    "                         \"Female\": 1,\n",
    "                          \"Nonbinary\": 2\n",
    "                         },\n",
    "                \n",
    "               }\n",
    "medical_df = medical_df.replace(cleanup_nums)\n"
   ]
  },
  {
   "cell_type": "code",
   "execution_count": 15,
   "id": "48ea7c7b",
   "metadata": {},
   "outputs": [],
   "source": [
    "#medical_df['Services'] = medical_df['Services'].astype('float64', errors = 'raise')\n",
    "#medical_df['Soft_drink'] = medical_df['Soft_drink'].astype('float64', errors = 'raise')\n",
    "#medical_df['ReAdmis'] = medical_df['ReAdmis'].astype('float64', errors = 'raise')\n",
    "#medical_df['Complication_risk'] = medical_df['Complication_risk'].astype('float64', errors = 'raise')"
   ]
  },
  {
   "cell_type": "code",
   "execution_count": 16,
   "id": "1cf5825a",
   "metadata": {},
   "outputs": [],
   "source": [
    "#10. Encoding Categorical Values with two categories, Yes/No \n",
    "\n",
    "medical_df[\"ReAdmis\"] = np.where(medical_df[\"ReAdmis\"].str.contains(\"Yes\"), 1, 0)\n",
    "medical_df[\"Soft_drink\"] = np.where(medical_df[\"Soft_drink\"].str.contains(\"Yes\"), 1, 0)\n",
    "medical_df[\"HighBlood\"] = np.where(medical_df[\"HighBlood\"].str.contains(\"Yes\"), 1, 0)\n",
    "medical_df[\"Stroke\"] = np.where(medical_df[\"Stroke\"].str.contains(\"Yes\"), 1, 0)\n",
    "medical_df[\"Overweight\"] = np.where(medical_df[\"Overweight\"].str.contains(\"Yes\"), 1, 0)\n",
    "medical_df[\"Arthritis\"] = np.where(medical_df[\"Arthritis\"].str.contains(\"Yes\"), 1, 0)\n",
    "medical_df[\"Hyperlipidemia\"] = np.where(medical_df[\"Hyperlipidemia\"].str.contains(\"Yes\"), 1, 0)\n",
    "medical_df[\"Diabetes\"] = np.where(medical_df[\"Diabetes\"].str.contains(\"Yes\"), 1, 0)\n",
    "medical_df[\"BackPain\"] = np.where(medical_df[\"BackPain\"].str.contains(\"Yes\"), 1, 0)\n",
    "medical_df[\"Anxiety\"] = np.where(medical_df[\"Anxiety\"].str.contains(\"Yes\"), 1, 0)\n",
    "medical_df[\"Allergic_rhinitis\"] = np.where(medical_df[\"Allergic_rhinitis\"].str.contains(\"Yes\"), 1, 0)\n",
    "medical_df[\"Reflux_esophagitis\"] = np.where(medical_df[\"Reflux_esophagitis\"].str.contains(\"Yes\"), 1, 0)\n",
    "medical_df[\"Asthma\"] = np.where(medical_df[\"Asthma\"].str.contains(\"Yes\"), 1, 0)\n"
   ]
  },
  {
   "cell_type": "markdown",
   "id": "4dea5897",
   "metadata": {},
   "source": [
    "**C4. Univariate and Bivariate visualizations**"
   ]
  },
  {
   "cell_type": "code",
   "execution_count": 17,
   "id": "17d9eb7f",
   "metadata": {},
   "outputs": [],
   "source": [
    "# Move ReAdmis to the end of the dataset as a target variable\n",
    "\n",
    "medical_df = medical_df[['Age', 'Income', 'Gender', 'Soft_drink', 'Initial_admin',\n",
    "       'HighBlood', 'Stroke', 'Complication_risk', 'Overweight', 'Arthritis',\n",
    "       'Diabetes', 'Hyperlipidemia', 'BackPain', 'Anxiety',\n",
    "       'Allergic_rhinitis', 'Reflux_esophagitis', 'Asthma', 'Services',\n",
    "       'Initial_days', 'TotalCharge', 'Additional_charges', 'Initial_admin_dm',\n",
    "       'Complication_risk_dm', 'Services_dm', 'Gender_dm', 'ReAdmis_dm',\n",
    "       'Soft_drink_dm', 'HighBlood_dm', 'Stroke_dm', 'Overweight_dm',\n",
    "       'Arthritis_dm', 'Hyperlipidemia_dm', 'Diabetes_dm', 'BackPain_dm',\n",
    "       'Anxiety_dm', 'Allergic_rhinitis_dm', 'Reflux_esophagitis_dm',\n",
    "       'Asthma_dm', 'ReAdmis']]"
   ]
  },
  {
   "cell_type": "code",
   "execution_count": 18,
   "id": "816cd872",
   "metadata": {},
   "outputs": [
    {
     "name": "stdout",
     "output_type": "stream",
     "text": [
      "Index(['Age', 'Income', 'Gender', 'Soft_drink', 'Initial_admin', 'HighBlood',\n",
      "       'Stroke', 'Complication_risk', 'Overweight', 'Arthritis', 'Diabetes',\n",
      "       'Hyperlipidemia', 'BackPain', 'Anxiety', 'Allergic_rhinitis',\n",
      "       'Reflux_esophagitis', 'Asthma', 'Services', 'Initial_days',\n",
      "       'TotalCharge', 'Additional_charges', 'Initial_admin_dm',\n",
      "       'Complication_risk_dm', 'Services_dm', 'Gender_dm', 'ReAdmis_dm',\n",
      "       'Soft_drink_dm', 'HighBlood_dm', 'Stroke_dm', 'Overweight_dm',\n",
      "       'Arthritis_dm', 'Hyperlipidemia_dm', 'Diabetes_dm', 'BackPain_dm',\n",
      "       'Anxiety_dm', 'Allergic_rhinitis_dm', 'Reflux_esophagitis_dm',\n",
      "       'Asthma_dm', 'ReAdmis'],\n",
      "      dtype='object')\n"
     ]
    }
   ],
   "source": [
    "medical_df_columns = medical_df.columns\n",
    "print(medical_df_columns)"
   ]
  },
  {
   "cell_type": "markdown",
   "id": "6311a2d9",
   "metadata": {},
   "source": [
    "**Univariate Statistics**\n"
   ]
  },
  {
   "cell_type": "code",
   "execution_count": 19,
   "id": "c7435f30",
   "metadata": {},
   "outputs": [
    {
     "data": {
      "image/png": "[encoded data removed]",
      "text/plain": [
       "<Figure size 432x288 with 6 Axes>"
      ]
     },
     "metadata": {
      "needs_background": "light"
     },
     "output_type": "display_data"
    }
   ],
   "source": [
    "# Check distribution by creating histograms of continuous variables \n",
    "medical_df[['Age','Income','Initial_days','TotalCharge','Additional_charges']].hist()\n",
    "plt.savefig('medical_continuos_pyplot.jpg')\n",
    "plt.tight_layout()\n"
   ]
  },
  {
   "cell_type": "code",
   "execution_count": 20,
   "id": "7289e1fc",
   "metadata": {},
   "outputs": [
    {
     "data": {
      "image/png": "[encoded data removed]",
      "text/plain": [
       "<Figure size 432x288 with 20 Axes>"
      ]
     },
     "metadata": {
      "needs_background": "light"
     },
     "output_type": "display_data"
    }
   ],
   "source": [
    "# Check distribution by createing histograms of categorical variables \n",
    "medical_df[['Gender','ReAdmis','Soft_drink', 'Initial_admin','HighBlood', 'Stroke','Complication_risk', 'Overweight',\n",
    "           'Arthritis', 'Diabetes', 'Hyperlipidemia', 'BackPain', 'Anxiety',\n",
    "           'Allergic_rhinitis', 'Reflux_esophagitis', 'Asthma', 'Services']].hist()\n",
    "plt.savefig('medical_cont_pyplot.jpg')\n",
    "plt.tight_layout()\n",
    "\n"
   ]
  },
  {
   "cell_type": "code",
   "execution_count": 21,
   "id": "05f153d8",
   "metadata": {},
   "outputs": [
    {
     "data": {
      "image/png": "[encoded data removed]",
      "text/plain": [
       "<Figure size 432x288 with 1 Axes>"
      ]
     },
     "metadata": {
      "needs_background": "light"
     },
     "output_type": "display_data"
    }
   ],
   "source": [
    "medical_df.boxplot(['Initial_days'])\n",
    "plt.savefig('medical_boxplots_Initial_days.jpg')"
   ]
  },
  {
   "cell_type": "code",
   "execution_count": 22,
   "id": "b02c7c89",
   "metadata": {},
   "outputs": [
    {
     "data": {
      "image/png": "[encoded data removed]",
      "text/plain": [
       "<Figure size 432x288 with 1 Axes>"
      ]
     },
     "metadata": {
      "needs_background": "light"
     },
     "output_type": "display_data"
    }
   ],
   "source": [
    "medical_df.boxplot(['TotalCharge'])\n",
    "plt.savefig('medical_boxplots_TotalCharge.jpg')"
   ]
  },
  {
   "cell_type": "code",
   "execution_count": 23,
   "id": "00547904",
   "metadata": {},
   "outputs": [
    {
     "data": {
      "image/png": "[encoded data removed]",
      "text/plain": [
       "<Figure size 432x288 with 1 Axes>"
      ]
     },
     "metadata": {
      "needs_background": "light"
     },
     "output_type": "display_data"
    }
   ],
   "source": [
    "medical_df.boxplot(['Income'])\n",
    "plt.savefig('medical_boxplots_Income.jpg')"
   ]
  },
  {
   "cell_type": "code",
   "execution_count": 24,
   "id": "e8387cc5",
   "metadata": {},
   "outputs": [
    {
     "data": {
      "text/plain": [
       "Age\n",
       "18    133\n",
       "19    137\n",
       "20    120\n",
       "21    125\n",
       "22    141\n",
       "     ... \n",
       "85    135\n",
       "86    156\n",
       "87    136\n",
       "88    143\n",
       "89    132\n",
       "Length: 72, dtype: int64"
      ]
     },
     "execution_count": 24,
     "metadata": {},
     "output_type": "execute_result"
    }
   ],
   "source": [
    "AgeGroup = medical_df.groupby(by = 'Age').size()\n",
    "AgeGroup"
   ]
  },
  {
   "cell_type": "code",
   "execution_count": 25,
   "id": "fa938fce",
   "metadata": {},
   "outputs": [
    {
     "data": {
      "text/plain": [
       "<AxesSubplot:xlabel='Age'>"
      ]
     },
     "execution_count": 25,
     "metadata": {},
     "output_type": "execute_result"
    },
    {
     "data": {
      "image/png": "[encoded data removed]",
      "text/plain": [
       "<Figure size 432x288 with 1 Axes>"
      ]
     },
     "metadata": {
      "needs_background": "light"
     },
     "output_type": "display_data"
    }
   ],
   "source": [
    "%matplotlib inline\n",
    "AgeGroup.plot.bar()"
   ]
  },
  {
   "cell_type": "code",
   "execution_count": 26,
   "id": "a6e0fb54",
   "metadata": {},
   "outputs": [
    {
     "data": {
      "text/plain": [
       "Services\n",
       "0    5265\n",
       "1    3130\n",
       "2    1225\n",
       "3     380\n",
       "dtype: int64"
      ]
     },
     "execution_count": 26,
     "metadata": {},
     "output_type": "execute_result"
    }
   ],
   "source": [
    "ServicesGroup = medical_df.groupby(by = 'Services').size()\n",
    "ServicesGroup"
   ]
  },
  {
   "cell_type": "code",
   "execution_count": 27,
   "id": "925b5877",
   "metadata": {},
   "outputs": [
    {
     "data": {
      "text/plain": [
       "<AxesSubplot:xlabel='Services'>"
      ]
     },
     "execution_count": 27,
     "metadata": {},
     "output_type": "execute_result"
    },
    {
     "data": {
      "image/png": "[encoded data removed]",
      "text/plain": [
       "<Figure size 432x288 with 1 Axes>"
      ]
     },
     "metadata": {
      "needs_background": "light"
     },
     "output_type": "display_data"
    }
   ],
   "source": [
    "%matplotlib inline\n",
    "ServicesGroup.plot.bar()"
   ]
  },
  {
   "cell_type": "code",
   "execution_count": 28,
   "id": "24941b9d",
   "metadata": {},
   "outputs": [
    {
     "data": {
      "text/plain": [
       "Complication_risk\n",
       "0    3358\n",
       "1    4517\n",
       "2    2125\n",
       "dtype: int64"
      ]
     },
     "execution_count": 28,
     "metadata": {},
     "output_type": "execute_result"
    }
   ],
   "source": [
    "Complication_riskGroup = medical_df.groupby(by = 'Complication_risk').size()\n",
    "Complication_riskGroup"
   ]
  },
  {
   "cell_type": "code",
   "execution_count": 29,
   "id": "872c6d9f",
   "metadata": {},
   "outputs": [
    {
     "data": {
      "text/plain": [
       "<AxesSubplot:xlabel='Complication_risk'>"
      ]
     },
     "execution_count": 29,
     "metadata": {},
     "output_type": "execute_result"
    },
    {
     "data": {
      "image/png": "[encoded data removed]",
      "text/plain": [
       "<Figure size 432x288 with 1 Axes>"
      ]
     },
     "metadata": {
      "needs_background": "light"
     },
     "output_type": "display_data"
    }
   ],
   "source": [
    "%matplotlib inline\n",
    "Complication_riskGroup.plot.bar()"
   ]
  },
  {
   "cell_type": "code",
   "execution_count": 30,
   "id": "0cb2d104",
   "metadata": {},
   "outputs": [
    {
     "data": {
      "text/plain": [
       "Soft_drink\n",
       "0    7425\n",
       "1    2575\n",
       "dtype: int64"
      ]
     },
     "execution_count": 30,
     "metadata": {},
     "output_type": "execute_result"
    }
   ],
   "source": [
    "Soft_drinkGroup = medical_df.groupby(by = 'Soft_drink').size()\n",
    "Soft_drinkGroup"
   ]
  },
  {
   "cell_type": "code",
   "execution_count": 31,
   "id": "b6124f3a",
   "metadata": {},
   "outputs": [
    {
     "data": {
      "text/plain": [
       "<AxesSubplot:xlabel='Soft_drink'>"
      ]
     },
     "execution_count": 31,
     "metadata": {},
     "output_type": "execute_result"
    },
    {
     "data": {
      "image/png": "[encoded data removed]",
      "text/plain": [
       "<Figure size 432x288 with 1 Axes>"
      ]
     },
     "metadata": {
      "needs_background": "light"
     },
     "output_type": "display_data"
    }
   ],
   "source": [
    "%matplotlib inline\n",
    "Soft_drinkGroup.plot.bar()"
   ]
  },
  {
   "cell_type": "markdown",
   "id": "30d973eb",
   "metadata": {},
   "source": [
    "**Bivariate visualizations**"
   ]
  },
  {
   "cell_type": "code",
   "execution_count": 32,
   "id": "142319f0",
   "metadata": {},
   "outputs": [],
   "source": [
    "# Create medical dataframe for heatmap bivariate analysis of correlation\n",
    "medical_bivariate = medical_df[['ReAdmis', 'Age', 'Income', 'Initial_days', 'TotalCharge', 'Additional_charges']]"
   ]
  },
  {
   "cell_type": "code",
   "execution_count": 33,
   "id": "edeac40b",
   "metadata": {},
   "outputs": [
    {
     "data": {
      "image/png": "[encoded data removed]",
      "text/plain": [
       "<Figure size 432x288 with 2 Axes>"
      ]
     },
     "metadata": {
      "needs_background": "light"
     },
     "output_type": "display_data"
    }
   ],
   "source": [
    "sns.heatmap(medical_bivariate.corr(), annot=True)\n",
    "plt.show()"
   ]
  },
  {
   "cell_type": "code",
   "execution_count": 34,
   "id": "88e7208b",
   "metadata": {},
   "outputs": [
    {
     "data": {
      "text/plain": [
       "<AxesSubplot:xlabel='Age', ylabel='ReAdmis'>"
      ]
     },
     "execution_count": 34,
     "metadata": {},
     "output_type": "execute_result"
    },
    {
     "data": {
      "image/png": "[encoded data removed]",
      "text/plain": [
       "<Figure size 432x288 with 1 Axes>"
      ]
     },
     "metadata": {
      "needs_background": "light"
     },
     "output_type": "display_data"
    }
   ],
   "source": [
    "# Create a scatter plot of categorical variables ReAdmis and Age\n",
    "medical_df.plot.scatter(x = 'Age', y = 'ReAdmis' )"
   ]
  },
  {
   "cell_type": "code",
   "execution_count": 35,
   "id": "cdec2da1",
   "metadata": {},
   "outputs": [
    {
     "data": {
      "text/plain": [
       "<AxesSubplot:xlabel='Income', ylabel='ReAdmis'>"
      ]
     },
     "execution_count": 35,
     "metadata": {},
     "output_type": "execute_result"
    },
    {
     "data": {
      "image/png": "[encoded data removed]",
      "text/plain": [
       "<Figure size 432x288 with 1 Axes>"
      ]
     },
     "metadata": {
      "needs_background": "light"
     },
     "output_type": "display_data"
    }
   ],
   "source": [
    "# Create a scatter plot of categorical variables ReAdmis and Income\n",
    "medical_df.plot.scatter(x = 'Income', y = 'ReAdmis' )"
   ]
  },
  {
   "cell_type": "code",
   "execution_count": 36,
   "id": "156458ec",
   "metadata": {},
   "outputs": [
    {
     "data": {
      "text/plain": [
       "<AxesSubplot:xlabel='Initial_days', ylabel='ReAdmis'>"
      ]
     },
     "execution_count": 36,
     "metadata": {},
     "output_type": "execute_result"
    },
    {
     "data": {
      "image/png": "[encoded data removed]",
      "text/plain": [
       "<Figure size 432x288 with 1 Axes>"
      ]
     },
     "metadata": {
      "needs_background": "light"
     },
     "output_type": "display_data"
    }
   ],
   "source": [
    "# Create a scatter plot of categorical variables ReAdmis and Initial_days\n",
    "medical_df.plot.scatter(x = 'Initial_days', y = 'ReAdmis' )"
   ]
  },
  {
   "cell_type": "code",
   "execution_count": 37,
   "id": "fec7cde8",
   "metadata": {},
   "outputs": [
    {
     "data": {
      "text/plain": [
       "<AxesSubplot:xlabel='TotalCharge', ylabel='ReAdmis'>"
      ]
     },
     "execution_count": 37,
     "metadata": {},
     "output_type": "execute_result"
    },
    {
     "data": {
      "image/png": "[encoded data removed]",
      "text/plain": [
       "<Figure size 432x288 with 1 Axes>"
      ]
     },
     "metadata": {
      "needs_background": "light"
     },
     "output_type": "display_data"
    }
   ],
   "source": [
    "# Create a scatter plot of categorical variables ReAdmis and TotalCharge\n",
    "medical_df.plot.scatter(x = 'TotalCharge', y = 'ReAdmis' )"
   ]
  },
  {
   "cell_type": "code",
   "execution_count": 38,
   "id": "34afa542",
   "metadata": {},
   "outputs": [
    {
     "data": {
      "text/plain": [
       "<AxesSubplot:xlabel='Additional_charges', ylabel='ReAdmis'>"
      ]
     },
     "execution_count": 38,
     "metadata": {},
     "output_type": "execute_result"
    },
    {
     "data": {
      "image/png": "[encoded data removed]",
      "text/plain": [
       "<Figure size 432x288 with 1 Axes>"
      ]
     },
     "metadata": {
      "needs_background": "light"
     },
     "output_type": "display_data"
    }
   ],
   "source": [
    "# Create a scatter plot of categorical variables ReAdmis and Additional_charges\n",
    "medical_df.plot.scatter(x = 'Additional_charges', y = 'ReAdmis' )"
   ]
  },
  {
   "cell_type": "markdown",
   "id": "dcd8f379",
   "metadata": {},
   "source": [
    "**C5. The prepared data set copy**"
   ]
  },
  {
   "cell_type": "code",
   "execution_count": 39,
   "id": "d77fd1f3",
   "metadata": {},
   "outputs": [
    {
     "name": "stdout",
     "output_type": "stream",
     "text": [
      "----------------------------------------Age---------------------------------------- - "
     ]
    },
    {
     "data": {
      "text/plain": [
       "47    161\n",
       "74    159\n",
       "52    159\n",
       "41    157\n",
       "86    156\n",
       "     ... \n",
       "63    123\n",
       "51    122\n",
       "20    120\n",
       "36    118\n",
       "80    116\n",
       "Name: Age, Length: 72, dtype: int64"
      ]
     },
     "metadata": {},
     "output_type": "display_data"
    },
    {
     "name": "stdout",
     "output_type": "stream",
     "text": [
      "----------------------------------------Income---------------------------------------- - "
     ]
    },
    {
     "data": {
      "text/plain": [
       "26915.85    2\n",
       "24997.02    2\n",
       "55506.92    2\n",
       "37132.97    2\n",
       "14572.40    2\n",
       "           ..\n",
       "81337.04    1\n",
       "17755.30    1\n",
       "18980.55    1\n",
       "21847.03    1\n",
       "21007.85    1\n",
       "Name: Income, Length: 9993, dtype: int64"
      ]
     },
     "metadata": {},
     "output_type": "display_data"
    },
    {
     "name": "stdout",
     "output_type": "stream",
     "text": [
      "----------------------------------------Gender---------------------------------------- - "
     ]
    },
    {
     "data": {
      "text/plain": [
       "1    5018\n",
       "0    4768\n",
       "2     214\n",
       "Name: Gender, dtype: int64"
      ]
     },
     "metadata": {},
     "output_type": "display_data"
    },
    {
     "name": "stdout",
     "output_type": "stream",
     "text": [
      "----------------------------------------Soft_drink---------------------------------------- - "
     ]
    },
    {
     "data": {
      "text/plain": [
       "0    7425\n",
       "1    2575\n",
       "Name: Soft_drink, dtype: int64"
      ]
     },
     "metadata": {},
     "output_type": "display_data"
    },
    {
     "name": "stdout",
     "output_type": "stream",
     "text": [
      "----------------------------------------Initial_admin---------------------------------------- - "
     ]
    },
    {
     "data": {
      "text/plain": [
       "0    5060\n",
       "1    2504\n",
       "2    2436\n",
       "Name: Initial_admin, dtype: int64"
      ]
     },
     "metadata": {},
     "output_type": "display_data"
    },
    {
     "name": "stdout",
     "output_type": "stream",
     "text": [
      "----------------------------------------HighBlood---------------------------------------- - "
     ]
    },
    {
     "data": {
      "text/plain": [
       "0    5910\n",
       "1    4090\n",
       "Name: HighBlood, dtype: int64"
      ]
     },
     "metadata": {},
     "output_type": "display_data"
    },
    {
     "name": "stdout",
     "output_type": "stream",
     "text": [
      "----------------------------------------Stroke---------------------------------------- - "
     ]
    },
    {
     "data": {
      "text/plain": [
       "0    8007\n",
       "1    1993\n",
       "Name: Stroke, dtype: int64"
      ]
     },
     "metadata": {},
     "output_type": "display_data"
    },
    {
     "name": "stdout",
     "output_type": "stream",
     "text": [
      "----------------------------------------Complication_risk---------------------------------------- - "
     ]
    },
    {
     "data": {
      "text/plain": [
       "1    4517\n",
       "0    3358\n",
       "2    2125\n",
       "Name: Complication_risk, dtype: int64"
      ]
     },
     "metadata": {},
     "output_type": "display_data"
    },
    {
     "name": "stdout",
     "output_type": "stream",
     "text": [
      "----------------------------------------Overweight---------------------------------------- - "
     ]
    },
    {
     "data": {
      "text/plain": [
       "1    7094\n",
       "0    2906\n",
       "Name: Overweight, dtype: int64"
      ]
     },
     "metadata": {},
     "output_type": "display_data"
    },
    {
     "name": "stdout",
     "output_type": "stream",
     "text": [
      "----------------------------------------Arthritis---------------------------------------- - "
     ]
    },
    {
     "data": {
      "text/plain": [
       "0    6426\n",
       "1    3574\n",
       "Name: Arthritis, dtype: int64"
      ]
     },
     "metadata": {},
     "output_type": "display_data"
    },
    {
     "name": "stdout",
     "output_type": "stream",
     "text": [
      "----------------------------------------Diabetes---------------------------------------- - "
     ]
    },
    {
     "data": {
      "text/plain": [
       "0    7262\n",
       "1    2738\n",
       "Name: Diabetes, dtype: int64"
      ]
     },
     "metadata": {},
     "output_type": "display_data"
    },
    {
     "name": "stdout",
     "output_type": "stream",
     "text": [
      "----------------------------------------Hyperlipidemia---------------------------------------- - "
     ]
    },
    {
     "data": {
      "text/plain": [
       "0    6628\n",
       "1    3372\n",
       "Name: Hyperlipidemia, dtype: int64"
      ]
     },
     "metadata": {},
     "output_type": "display_data"
    },
    {
     "name": "stdout",
     "output_type": "stream",
     "text": [
      "----------------------------------------BackPain---------------------------------------- - "
     ]
    },
    {
     "data": {
      "text/plain": [
       "0    5886\n",
       "1    4114\n",
       "Name: BackPain, dtype: int64"
      ]
     },
     "metadata": {},
     "output_type": "display_data"
    },
    {
     "name": "stdout",
     "output_type": "stream",
     "text": [
      "----------------------------------------Anxiety---------------------------------------- - "
     ]
    },
    {
     "data": {
      "text/plain": [
       "0    6785\n",
       "1    3215\n",
       "Name: Anxiety, dtype: int64"
      ]
     },
     "metadata": {},
     "output_type": "display_data"
    },
    {
     "name": "stdout",
     "output_type": "stream",
     "text": [
      "----------------------------------------Allergic_rhinitis---------------------------------------- - "
     ]
    },
    {
     "data": {
      "text/plain": [
       "0    6059\n",
       "1    3941\n",
       "Name: Allergic_rhinitis, dtype: int64"
      ]
     },
     "metadata": {},
     "output_type": "display_data"
    },
    {
     "name": "stdout",
     "output_type": "stream",
     "text": [
      "----------------------------------------Reflux_esophagitis---------------------------------------- - "
     ]
    },
    {
     "data": {
      "text/plain": [
       "0    5865\n",
       "1    4135\n",
       "Name: Reflux_esophagitis, dtype: int64"
      ]
     },
     "metadata": {},
     "output_type": "display_data"
    },
    {
     "name": "stdout",
     "output_type": "stream",
     "text": [
      "----------------------------------------Asthma---------------------------------------- - "
     ]
    },
    {
     "data": {
      "text/plain": [
       "0    7107\n",
       "1    2893\n",
       "Name: Asthma, dtype: int64"
      ]
     },
     "metadata": {},
     "output_type": "display_data"
    },
    {
     "name": "stdout",
     "output_type": "stream",
     "text": [
      "----------------------------------------Services---------------------------------------- - "
     ]
    },
    {
     "data": {
      "text/plain": [
       "0    5265\n",
       "1    3130\n",
       "2    1225\n",
       "3     380\n",
       "Name: Services, dtype: int64"
      ]
     },
     "metadata": {},
     "output_type": "display_data"
    },
    {
     "name": "stdout",
     "output_type": "stream",
     "text": [
      "----------------------------------------Initial_days---------------------------------------- - "
     ]
    },
    {
     "data": {
      "text/plain": [
       "63.544320    2\n",
       "67.421390    2\n",
       "70.325420    2\n",
       "4.912367     1\n",
       "53.405170    1\n",
       "            ..\n",
       "10.138463    1\n",
       "58.034160    1\n",
       "70.505400    1\n",
       "1.923162     1\n",
       "5.703981     1\n",
       "Name: Initial_days, Length: 9997, dtype: int64"
      ]
     },
     "metadata": {},
     "output_type": "display_data"
    },
    {
     "name": "stdout",
     "output_type": "stream",
     "text": [
      "----------------------------------------TotalCharge---------------------------------------- - "
     ]
    },
    {
     "data": {
      "text/plain": [
       "7555.452000    2\n",
       "8081.346000    2\n",
       "7964.681000    2\n",
       "8109.808000    1\n",
       "3316.603639    1\n",
       "              ..\n",
       "2631.579978    1\n",
       "6466.237000    1\n",
       "2760.709578    1\n",
       "7860.680000    1\n",
       "3370.734711    1\n",
       "Name: TotalCharge, Length: 9997, dtype: int64"
      ]
     },
     "metadata": {},
     "output_type": "display_data"
    },
    {
     "name": "stdout",
     "output_type": "stream",
     "text": [
      "----------------------------------------Additional_charges---------------------------------------- - "
     ]
    },
    {
     "data": {
      "text/plain": [
       "8044.550000     3\n",
       "6858.934776     3\n",
       "14641.571040    3\n",
       "5000.124000     3\n",
       "4750.641900     3\n",
       "               ..\n",
       "4060.807076     1\n",
       "9965.695000     1\n",
       "6572.590210     1\n",
       "11775.511170    1\n",
       "12804.678120    1\n",
       "Name: Additional_charges, Length: 9418, dtype: int64"
      ]
     },
     "metadata": {},
     "output_type": "display_data"
    },
    {
     "name": "stdout",
     "output_type": "stream",
     "text": [
      "----------------------------------------Initial_admin_dm---------------------------------------- - "
     ]
    },
    {
     "data": {
      "text/plain": [
       "0    7496\n",
       "1    2504\n",
       "Name: Initial_admin_dm, dtype: int64"
      ]
     },
     "metadata": {},
     "output_type": "display_data"
    },
    {
     "name": "stdout",
     "output_type": "stream",
     "text": [
      "----------------------------------------Complication_risk_dm---------------------------------------- - "
     ]
    },
    {
     "data": {
      "text/plain": [
       "0    5483\n",
       "1    4517\n",
       "Name: Complication_risk_dm, dtype: int64"
      ]
     },
     "metadata": {},
     "output_type": "display_data"
    },
    {
     "name": "stdout",
     "output_type": "stream",
     "text": [
      "----------------------------------------Services_dm---------------------------------------- - "
     ]
    },
    {
     "data": {
      "text/plain": [
       "0    6870\n",
       "1    3130\n",
       "Name: Services_dm, dtype: int64"
      ]
     },
     "metadata": {},
     "output_type": "display_data"
    },
    {
     "name": "stdout",
     "output_type": "stream",
     "text": [
      "----------------------------------------Gender_dm---------------------------------------- - "
     ]
    },
    {
     "data": {
      "text/plain": [
       "1    5018\n",
       "0    4982\n",
       "Name: Gender_dm, dtype: int64"
      ]
     },
     "metadata": {},
     "output_type": "display_data"
    },
    {
     "name": "stdout",
     "output_type": "stream",
     "text": [
      "----------------------------------------ReAdmis_dm---------------------------------------- - "
     ]
    },
    {
     "data": {
      "text/plain": [
       "0    6331\n",
       "1    3669\n",
       "Name: ReAdmis_dm, dtype: int64"
      ]
     },
     "metadata": {},
     "output_type": "display_data"
    },
    {
     "name": "stdout",
     "output_type": "stream",
     "text": [
      "----------------------------------------Soft_drink_dm---------------------------------------- - "
     ]
    },
    {
     "data": {
      "text/plain": [
       "0    7425\n",
       "1    2575\n",
       "Name: Soft_drink_dm, dtype: int64"
      ]
     },
     "metadata": {},
     "output_type": "display_data"
    },
    {
     "name": "stdout",
     "output_type": "stream",
     "text": [
      "----------------------------------------HighBlood_dm---------------------------------------- - "
     ]
    },
    {
     "data": {
      "text/plain": [
       "0    5910\n",
       "1    4090\n",
       "Name: HighBlood_dm, dtype: int64"
      ]
     },
     "metadata": {},
     "output_type": "display_data"
    },
    {
     "name": "stdout",
     "output_type": "stream",
     "text": [
      "----------------------------------------Stroke_dm---------------------------------------- - "
     ]
    },
    {
     "data": {
      "text/plain": [
       "0    8007\n",
       "1    1993\n",
       "Name: Stroke_dm, dtype: int64"
      ]
     },
     "metadata": {},
     "output_type": "display_data"
    },
    {
     "name": "stdout",
     "output_type": "stream",
     "text": [
      "----------------------------------------Overweight_dm---------------------------------------- - "
     ]
    },
    {
     "data": {
      "text/plain": [
       "1    7094\n",
       "0    2906\n",
       "Name: Overweight_dm, dtype: int64"
      ]
     },
     "metadata": {},
     "output_type": "display_data"
    },
    {
     "name": "stdout",
     "output_type": "stream",
     "text": [
      "----------------------------------------Arthritis_dm---------------------------------------- - "
     ]
    },
    {
     "data": {
      "text/plain": [
       "0    6426\n",
       "1    3574\n",
       "Name: Arthritis_dm, dtype: int64"
      ]
     },
     "metadata": {},
     "output_type": "display_data"
    },
    {
     "name": "stdout",
     "output_type": "stream",
     "text": [
      "----------------------------------------Hyperlipidemia_dm---------------------------------------- - "
     ]
    },
    {
     "data": {
      "text/plain": [
       "0    6628\n",
       "1    3372\n",
       "Name: Hyperlipidemia_dm, dtype: int64"
      ]
     },
     "metadata": {},
     "output_type": "display_data"
    },
    {
     "name": "stdout",
     "output_type": "stream",
     "text": [
      "----------------------------------------Diabetes_dm---------------------------------------- - "
     ]
    },
    {
     "data": {
      "text/plain": [
       "0    7262\n",
       "1    2738\n",
       "Name: Diabetes_dm, dtype: int64"
      ]
     },
     "metadata": {},
     "output_type": "display_data"
    },
    {
     "name": "stdout",
     "output_type": "stream",
     "text": [
      "----------------------------------------BackPain_dm---------------------------------------- - "
     ]
    },
    {
     "data": {
      "text/plain": [
       "0    5886\n",
       "1    4114\n",
       "Name: BackPain_dm, dtype: int64"
      ]
     },
     "metadata": {},
     "output_type": "display_data"
    },
    {
     "name": "stdout",
     "output_type": "stream",
     "text": [
      "----------------------------------------Anxiety_dm---------------------------------------- - "
     ]
    },
    {
     "data": {
      "text/plain": [
       "0    6785\n",
       "1    3215\n",
       "Name: Anxiety_dm, dtype: int64"
      ]
     },
     "metadata": {},
     "output_type": "display_data"
    },
    {
     "name": "stdout",
     "output_type": "stream",
     "text": [
      "----------------------------------------Allergic_rhinitis_dm---------------------------------------- - "
     ]
    },
    {
     "data": {
      "text/plain": [
       "0    6059\n",
       "1    3941\n",
       "Name: Allergic_rhinitis_dm, dtype: int64"
      ]
     },
     "metadata": {},
     "output_type": "display_data"
    },
    {
     "name": "stdout",
     "output_type": "stream",
     "text": [
      "----------------------------------------Reflux_esophagitis_dm---------------------------------------- - "
     ]
    },
    {
     "data": {
      "text/plain": [
       "0    5865\n",
       "1    4135\n",
       "Name: Reflux_esophagitis_dm, dtype: int64"
      ]
     },
     "metadata": {},
     "output_type": "display_data"
    },
    {
     "name": "stdout",
     "output_type": "stream",
     "text": [
      "----------------------------------------Asthma_dm---------------------------------------- - "
     ]
    },
    {
     "data": {
      "text/plain": [
       "0    7107\n",
       "1    2893\n",
       "Name: Asthma_dm, dtype: int64"
      ]
     },
     "metadata": {},
     "output_type": "display_data"
    },
    {
     "name": "stdout",
     "output_type": "stream",
     "text": [
      "----------------------------------------ReAdmis---------------------------------------- - "
     ]
    },
    {
     "data": {
      "text/plain": [
       "0    6331\n",
       "1    3669\n",
       "Name: ReAdmis, dtype: int64"
      ]
     },
     "metadata": {},
     "output_type": "display_data"
    }
   ],
   "source": [
    "# Prepared data set copy: medical_prepared_logistic.csv\n",
    "for col in medical_df.columns:\n",
    "    print('-' * 40 + col + '-' * 40 , end=' - ')\n",
    "    display(medical_df[col].value_counts())\n",
    "\n",
    "medical_df.to_csv(\"medical_prepared_logistic.csv\", index=False)"
   ]
  },
  {
   "cell_type": "markdown",
   "id": "9009a622",
   "metadata": {},
   "source": [
    "**D. Comparison an initial logistic regression model and reduced logistic regression model**"
   ]
  },
  {
   "cell_type": "markdown",
   "id": "9f2825ae",
   "metadata": {},
   "source": [
    "**D1. An initial logistic regression model from part C2**"
   ]
  },
  {
   "cell_type": "code",
   "execution_count": 40,
   "id": "ad1f55d7",
   "metadata": {},
   "outputs": [
    {
     "name": "stdout",
     "output_type": "stream",
     "text": [
      "Index(['Age', 'Income', 'Gender', 'Soft_drink', 'Initial_admin', 'HighBlood',\n",
      "       'Stroke', 'Complication_risk', 'Overweight', 'Arthritis', 'Diabetes',\n",
      "       'Hyperlipidemia', 'BackPain', 'Anxiety', 'Allergic_rhinitis',\n",
      "       'Reflux_esophagitis', 'Asthma', 'Services', 'Initial_days',\n",
      "       'TotalCharge', 'Additional_charges', 'Initial_admin_dm',\n",
      "       'Complication_risk_dm', 'Services_dm', 'Gender_dm', 'ReAdmis_dm',\n",
      "       'Soft_drink_dm', 'HighBlood_dm', 'Stroke_dm', 'Overweight_dm',\n",
      "       'Arthritis_dm', 'Hyperlipidemia_dm', 'Diabetes_dm', 'BackPain_dm',\n",
      "       'Anxiety_dm', 'Allergic_rhinitis_dm', 'Reflux_esophagitis_dm',\n",
      "       'Asthma_dm', 'ReAdmis'],\n",
      "      dtype='object')\n"
     ]
    }
   ],
   "source": [
    "medical_df = pd.read_csv('medical_prepared_logistic.csv')\n",
    "medical_df_columns = medical_df.columns\n",
    "print(medical_df_columns)"
   ]
  },
  {
   "cell_type": "code",
   "execution_count": 41,
   "id": "5c366f0f",
   "metadata": {},
   "outputs": [
    {
     "name": "stdout",
     "output_type": "stream",
     "text": [
      "Optimization terminated successfully.\n",
      "         Current function value: 0.036257\n",
      "         Iterations 14\n",
      "                           Logit Regression Results                           \n",
      "==============================================================================\n",
      "Dep. Variable:                ReAdmis   No. Observations:                10000\n",
      "Model:                          Logit   Df Residuals:                     9979\n",
      "Method:                           MLE   Df Model:                           20\n",
      "Date:                Mon, 29 Nov 2021   Pseudo R-squ.:                  0.9448\n",
      "Time:                        12:12:27   Log-Likelihood:                -362.57\n",
      "converged:                       True   LL-Null:                       -6572.9\n",
      "Covariance Type:            nonrobust   LLR p-value:                     0.000\n",
      "======================================================================================\n",
      "                         coef    std err          z      P>|z|      [0.025      0.975]\n",
      "--------------------------------------------------------------------------------------\n",
      "intercept            -76.9265      4.426    -17.379      0.000     -85.602     -68.251\n",
      "Age                   -0.0148      0.014     -1.067      0.286      -0.042       0.012\n",
      "Income             -2.206e-08   3.38e-06     -0.007      0.995   -6.64e-06     6.6e-06\n",
      "Initial_days           1.1787      0.082     14.396      0.000       1.018       1.339\n",
      "TotalCharge            0.0020      0.001      3.154      0.002       0.001       0.003\n",
      "Additional_charges  6.376e-05   5.92e-05      1.077      0.282   -5.23e-05       0.000\n",
      "Soft_drink             0.0350      0.224      0.156      0.876      -0.405       0.475\n",
      "Initial_admin         -0.3144      0.215     -1.465      0.143      -0.735       0.106\n",
      "HighBlood              0.0721      0.548      0.132      0.895      -1.002       1.146\n",
      "Stroke                 1.6088      0.254      6.325      0.000       1.110       2.107\n",
      "Complication_risk     -0.3086      0.194     -1.593      0.111      -0.688       0.071\n",
      "Overweight            -0.2527      0.215     -1.177      0.239      -0.674       0.168\n",
      "Arthritis             -1.2820      0.220     -5.838      0.000      -1.712      -0.852\n",
      "Diabetes               0.2632      0.224      1.177      0.239      -0.175       0.701\n",
      "Hyperlipidemia         0.0967      0.216      0.449      0.654      -0.326       0.519\n",
      "BackPain               0.1607      0.203      0.791      0.429      -0.238       0.559\n",
      "Anxiety               -1.0923      0.218     -5.015      0.000      -1.519      -0.665\n",
      "Allergic_rhinitis     -0.4521      0.203     -2.222      0.026      -0.851      -0.053\n",
      "Reflux_esophagitis    -0.4309      0.206     -2.093      0.036      -0.834      -0.027\n",
      "Asthma                -1.1541      0.218     -5.298      0.000      -1.581      -0.727\n",
      "Services               0.6212      0.117      5.298      0.000       0.391       0.851\n",
      "======================================================================================\n",
      "\n",
      "Possibly complete quasi-separation: A fraction 0.80 of observations can be\n",
      "perfectly predicted. This might indicate that there is complete\n",
      "quasi-separation. In this case some parameters will not be identified.\n"
     ]
    }
   ],
   "source": [
    "#Create the logistic regression model with all predictors in C2\n",
    "\n",
    "medical_df['intercept'] = 1\n",
    "logistic_model = sm.Logit(medical_df['ReAdmis'], medical_df[['intercept', 'Age', 'Income', 'Initial_days', 'TotalCharge', \n",
    "                                                             'Additional_charges','Soft_drink', 'Initial_admin',\n",
    "                                                             'HighBlood','Stroke','Complication_risk',\n",
    "                                                            'Overweight','Arthritis', 'Diabetes', 'Hyperlipidemia',\n",
    "                                                             'BackPain', 'Anxiety', 'Allergic_rhinitis', \n",
    "                                                             'Reflux_esophagitis','Asthma', 'Services']].astype(float)).fit()\n",
    "print(logistic_model.summary())"
   ]
  },
  {
   "cell_type": "markdown",
   "id": "128e7b7e",
   "metadata": {},
   "source": [
    "For this logistic model, we have the Pseudo R-squ equal to 0.9448. I can say that the nominal variable explain alone 94.5% of the total 100% variability of the target variable.\n",
    "\n",
    "**Now let run the logistic resgresion medal with all dummy variables in the data set.**"
   ]
  },
  {
   "cell_type": "code",
   "execution_count": 42,
   "id": "2e1aab91",
   "metadata": {},
   "outputs": [
    {
     "name": "stdout",
     "output_type": "stream",
     "text": [
      "Optimization terminated successfully.\n",
      "         Current function value: 0.035586\n",
      "         Iterations 14\n",
      "                           Logit Regression Results                           \n",
      "==============================================================================\n",
      "Dep. Variable:                ReAdmis   No. Observations:                10000\n",
      "Model:                          Logit   Df Residuals:                     9978\n",
      "Method:                           MLE   Df Model:                           21\n",
      "Date:                Mon, 29 Nov 2021   Pseudo R-squ.:                  0.9459\n",
      "Time:                        12:12:27   Log-Likelihood:                -355.86\n",
      "converged:                       True   LL-Null:                       -6572.9\n",
      "Covariance Type:            nonrobust   LLR p-value:                     0.000\n",
      "=========================================================================================\n",
      "                            coef    std err          z      P>|z|      [0.025      0.975]\n",
      "-----------------------------------------------------------------------------------------\n",
      "intercept               -82.1821      4.586    -17.919      0.000     -91.171     -73.193\n",
      "Age                      -0.0098      0.014     -0.689      0.491      -0.037       0.018\n",
      "Income                  2.33e-06   3.45e-06      0.676      0.499   -4.42e-06    9.09e-06\n",
      "Initial_days              1.1090      0.069     16.151      0.000       0.974       1.244\n",
      "TotalCharge               0.0033      0.000      7.881      0.000       0.002       0.004\n",
      "Additional_charges     5.331e-05   5.97e-05      0.893      0.372   -6.37e-05       0.000\n",
      "Gender_dm                -0.2264      0.196     -1.152      0.249      -0.612       0.159\n",
      "Soft_drink_dm             0.2869      0.228      1.257      0.209      -0.160       0.734\n",
      "Initial_admin_dm         -0.6113      0.253     -2.420      0.016      -1.106      -0.116\n",
      "HighBlood_dm              0.0566      0.542      0.104      0.917      -1.007       1.120\n",
      "Stroke_dm                 1.5303      0.258      5.938      0.000       1.025       2.035\n",
      "Complication_risk_dm      1.1730      0.230      5.102      0.000       0.722       1.624\n",
      "Overweight_dm            -0.2761      0.219     -1.258      0.208      -0.706       0.154\n",
      "Arthritis_dm             -1.5391      0.226     -6.812      0.000      -1.982      -1.096\n",
      "Diabetes_dm               0.2030      0.221      0.919      0.358      -0.230       0.636\n",
      "Hyperlipidemia_dm        -0.0330      0.210     -0.157      0.875      -0.445       0.379\n",
      "BackPain_dm               0.0230      0.199      0.116      0.908      -0.366       0.412\n",
      "Anxiety_dm               -1.2567      0.225     -5.574      0.000      -1.699      -0.815\n",
      "Allergic_rhinitis_dm     -0.4988      0.202     -2.466      0.014      -0.895      -0.102\n",
      "Reflux_esophagitis_dm    -0.5509      0.204     -2.701      0.007      -0.951      -0.151\n",
      "Asthma_dm                -1.3045      0.224     -5.823      0.000      -1.744      -0.865\n",
      "Services_dm              -0.3917      0.212     -1.848      0.065      -0.807       0.024\n",
      "=========================================================================================\n",
      "\n",
      "Possibly complete quasi-separation: A fraction 0.81 of observations can be\n",
      "perfectly predicted. This might indicate that there is complete\n",
      "quasi-separation. In this case some parameters will not be identified.\n"
     ]
    }
   ],
   "source": [
    "#Create the Logistic regression model with all dummy columns\n",
    "medical_df['intercept'] = 1\n",
    "dm_logistic_model = sm.Logit(medical_df['ReAdmis'], medical_df[['intercept','Age', 'Income', 'Initial_days', \n",
    "                                                               'TotalCharge', 'Additional_charges',\n",
    "                                                        'Gender_dm','Soft_drink_dm', 'Initial_admin_dm','HighBlood_dm', \n",
    "                                                         'Stroke_dm','Complication_risk_dm', 'Overweight_dm',\n",
    "                                                         'Arthritis_dm', 'Diabetes_dm', 'Hyperlipidemia_dm', 'BackPain_dm', \n",
    "                                                         'Anxiety_dm', 'Allergic_rhinitis_dm', 'Reflux_esophagitis_dm',\n",
    "                                                         'Asthma_dm', 'Services_dm']]).fit()\n",
    "print(dm_logistic_model.summary())\n"
   ]
  },
  {
   "cell_type": "markdown",
   "id": "4c65ef9c",
   "metadata": {},
   "source": [
    "**D2. Justify a statistically**"
   ]
  },
  {
   "cell_type": "markdown",
   "id": "a44ac27b",
   "metadata": {},
   "source": [
    "We have the Pseudo R-squ equal to 0.9459 in the logistic regression model with all dummy variables. I can say that the nominal variable explains alone 94.6% of the total 100% variability of the target variable. The Pseudo R-squ value with dummy value increases a little bit 0.01% compared to the original one (94.5%). \n",
    "\n",
    "From the logistic regression model with all dummy variables predictors:\n",
    "\n",
    "- I will remove all the variables with a higher p-value (0.05): \n",
    " - Age, \n",
    " - Icome, \n",
    " - Aditional_charges, \n",
    " - Gender_dm, \n",
    " - Soft-drink_dm, \n",
    " - HighBlood_dm, \n",
    " - Overweight_dm,  \n",
    " - Diabetes_dm, \n",
    " - Hyperlipdemia_dm, \n",
    " - Backpain_dm, \n",
    " - Services_dm.\n",
    "\n",
    "- I will use all these variables to create the reduced logistic regression model: \n",
    " - 'Initial_days', \n",
    " - 'Initial_admin_dm', \n",
    " - 'TotalCharge', \n",
    " - 'Stroke_dm', \n",
    " - 'Complication_risk_dm', \n",
    " - 'Arthritis_dm', \n",
    " - 'Anxiety_dm', \n",
    " - 'Allergic_rhinitis_dm', \n",
    " - 'Reflux_esophagitis_dm',  \n",
    " - 'Asthma_dm'.\n"
   ]
  },
  {
   "cell_type": "markdown",
   "id": "16a5ef76",
   "metadata": {},
   "source": [
    "**D3. The reduced logistic regression model**"
   ]
  },
  {
   "cell_type": "code",
   "execution_count": 43,
   "id": "fbf75b1d",
   "metadata": {},
   "outputs": [
    {
     "name": "stdout",
     "output_type": "stream",
     "text": [
      "Optimization terminated successfully.\n",
      "         Current function value: 0.036301\n",
      "         Iterations 14\n",
      "                           Logit Regression Results                           \n",
      "==============================================================================\n",
      "Dep. Variable:                ReAdmis   No. Observations:                10000\n",
      "Model:                          Logit   Df Residuals:                     9989\n",
      "Method:                           MLE   Df Model:                           10\n",
      "Date:                Mon, 29 Nov 2021   Pseudo R-squ.:                  0.9448\n",
      "Time:                        12:12:27   Log-Likelihood:                -363.01\n",
      "converged:                       True   LL-Null:                       -6572.9\n",
      "Covariance Type:            nonrobust   LLR p-value:                     0.000\n",
      "=========================================================================================\n",
      "                            coef    std err          z      P>|z|      [0.025      0.975]\n",
      "-----------------------------------------------------------------------------------------\n",
      "intercept               -81.3435      4.421    -18.400      0.000     -90.008     -72.679\n",
      "Initial_days              1.0617      0.064     16.549      0.000       0.936       1.187\n",
      "Initial_admin_dm         -0.4586      0.245     -1.873      0.061      -0.939       0.021\n",
      "TotalCharge               0.0036      0.000      9.130      0.000       0.003       0.004\n",
      "Stroke_dm                 1.5780      0.252      6.274      0.000       1.085       2.071\n",
      "Complication_risk_dm      1.2300      0.222      5.533      0.000       0.794       1.666\n",
      "Arthritis_dm             -1.5056      0.221     -6.822      0.000      -1.938      -1.073\n",
      "Anxiety_dm               -1.2758      0.220     -5.810      0.000      -1.706      -0.845\n",
      "Allergic_rhinitis_dm     -0.5262      0.198     -2.652      0.008      -0.915      -0.137\n",
      "Reflux_esophagitis_dm    -0.5562      0.199     -2.794      0.005      -0.946      -0.166\n",
      "Asthma_dm                -1.2258      0.220     -5.571      0.000      -1.657      -0.794\n",
      "=========================================================================================\n",
      "\n",
      "Possibly complete quasi-separation: A fraction 0.80 of observations can be\n",
      "perfectly predicted. This might indicate that there is complete\n",
      "quasi-separation. In this case some parameters will not be identified.\n"
     ]
    }
   ],
   "source": [
    "#create reduce model: remove all variable with p value lower than 0.05:\n",
    "\n",
    "medical_df['intercept'] = 1\n",
    "reduce_logistic_model = sm.Logit(medical_df['ReAdmis'], medical_df[['intercept','Initial_days', 'Initial_admin_dm', 'TotalCharge', \n",
    "                                                                    'Stroke_dm', 'Complication_risk_dm', 'Arthritis_dm', \n",
    "                                                                    'Anxiety_dm', 'Allergic_rhinitis_dm', 'Reflux_esophagitis_dm', \n",
    "                                                                    'Asthma_dm']]).fit()\n",
    "print(reduce_logistic_model.summary())\n"
   ]
  },
  {
   "cell_type": "markdown",
   "id": "2d29d599",
   "metadata": {},
   "source": [
    "**E1. Analyze the data set in reduced logistic regression model**"
   ]
  },
  {
   "cell_type": "markdown",
   "id": "a0431c4d",
   "metadata": {},
   "source": [
    "The reduced losistic regression model has he Pseudo R-squ at 94.5% which is already high. It means that 0.55 percent in the variation of the dependent variables are not explain by the choice of independent variables. \n",
    "\n",
    "The intercept of equation is -81.3435 \n",
    "\n",
    "The variables that have a negative relationship with ReAdmis are Initial_admin_dm, Arthritis_dm, Anxiety_dm, Allergic_rhinitis_dm, Reflux_esophagitis_dm, Asthma_dm.\n",
    "\n",
    "The variables that have a positive relationship with ReAdmis are Initial_days, Stroke_dm, Complication_risk_dm\n",
    "\n",
    "The equation of the reduced logistic regression model: \n",
    "\n",
    "y = -81.3435  + 1.0617*Initial_days - 0.4586*Initial_admin_dm + 0.0036*TotalCharge + 1.5780*Stroke_dm + 1.2300*Complication_risk_dm - 1.5056*Arthritis_dm - 1.2758*Anxiety_dm  - 0.5262*Allergic_rhinitis_dm - 0.5562*Reflux_esophagitis_dm - 1.2258* Asthma_dm"
   ]
  },
  {
   "cell_type": "markdown",
   "id": "d863bdd5",
   "metadata": {},
   "source": [
    "**Create the model evaluation metric**"
   ]
  },
  {
   "cell_type": "code",
   "execution_count": 44,
   "id": "ae359e34",
   "metadata": {},
   "outputs": [],
   "source": [
    "matrixmedical_df = pd.read_csv('medical_prepared_logistic.csv')"
   ]
  },
  {
   "cell_type": "code",
   "execution_count": 45,
   "id": "9c7a5b0f",
   "metadata": {},
   "outputs": [],
   "source": [
    "feature_cols = ['Age', 'Income', 'Initial_days', \n",
    "                                                               'TotalCharge', 'Additional_charges',\n",
    "                                                        'Gender_dm','Soft_drink_dm', 'Initial_admin_dm','HighBlood_dm', \n",
    "                                                         'Stroke_dm','Complication_risk_dm', 'Overweight_dm',\n",
    "                                                         'Arthritis_dm', 'Diabetes_dm', 'Hyperlipidemia_dm', 'BackPain_dm', \n",
    "                                                         'Anxiety_dm', 'Allergic_rhinitis_dm', 'Reflux_esophagitis_dm',\n",
    "                                                         'Asthma_dm', 'Services_dm']\n",
    "X = matrixmedical_df[feature_cols]\n",
    "y = matrixmedical_df.ReAdmis"
   ]
  },
  {
   "cell_type": "code",
   "execution_count": 46,
   "id": "93f4a5db",
   "metadata": {},
   "outputs": [],
   "source": [
    "#To understand model performance, dividing the dataset into a training set and a test set is a good strategy.\n",
    "# split X and y into training and testing sets\n",
    "\n",
    "from sklearn.model_selection import train_test_split\n",
    "X_train, X_test, y_train, y_test = train_test_split(X, y, test_size = 40, random_state = 0)"
   ]
  },
  {
   "cell_type": "code",
   "execution_count": 47,
   "id": "a10ab605",
   "metadata": {},
   "outputs": [],
   "source": [
    "# import the class\n",
    "from sklearn.linear_model import LogisticRegression"
   ]
  },
  {
   "cell_type": "code",
   "execution_count": 48,
   "id": "a412378d",
   "metadata": {},
   "outputs": [],
   "source": [
    "# instantiate the model (using the default parameters)\n",
    "logreg_classifier = LogisticRegression()"
   ]
  },
  {
   "cell_type": "code",
   "execution_count": 49,
   "id": "afbec3c1",
   "metadata": {},
   "outputs": [
    {
     "data": {
      "text/plain": [
       "LogisticRegression()"
      ]
     },
     "execution_count": 49,
     "metadata": {},
     "output_type": "execute_result"
    }
   ],
   "source": [
    "# fit the model with data\n",
    "logreg_classifier.fit(X_train,y_train)"
   ]
  },
  {
   "cell_type": "code",
   "execution_count": 50,
   "id": "cb785b02",
   "metadata": {},
   "outputs": [],
   "source": [
    "# Predict\n",
    "y_pred=logreg_classifier.predict(X_test)"
   ]
  },
  {
   "cell_type": "code",
   "execution_count": 51,
   "id": "3c7962c5",
   "metadata": {},
   "outputs": [
    {
     "data": {
      "text/plain": [
       "array([[27,  2],\n",
       "       [ 1, 10]], dtype=int64)"
      ]
     },
     "execution_count": 51,
     "metadata": {},
     "output_type": "execute_result"
    }
   ],
   "source": [
    "# import the metrics class\n",
    "from sklearn import metrics\n",
    "cnf_matrix = metrics.confusion_matrix(y_test, y_pred)\n",
    "cnf_matrix"
   ]
  },
  {
   "cell_type": "code",
   "execution_count": 52,
   "id": "40c0b47c",
   "metadata": {},
   "outputs": [
    {
     "data": {
      "text/plain": [
       "array([[27,  2],\n",
       "       [ 1, 10]], dtype=int64)"
      ]
     },
     "execution_count": 52,
     "metadata": {},
     "output_type": "execute_result"
    }
   ],
   "source": [
    "# Model Evaluation using Confusion Matrix. Checking the accuracy\n",
    "\n",
    "from sklearn.metrics import confusion_matrix\n",
    "cnf_matrix = confusion_matrix(y_test, y_pred)\n",
    "cnf_matrix"
   ]
  },
  {
   "cell_type": "markdown",
   "id": "20489078",
   "metadata": {},
   "source": [
    "\n"
   ]
  },
  {
   "cell_type": "code",
   "execution_count": 53,
   "id": "c970aa0e",
   "metadata": {},
   "outputs": [
    {
     "data": {
      "text/plain": [
       "<AxesSubplot:>"
      ]
     },
     "execution_count": 53,
     "metadata": {},
     "output_type": "execute_result"
    },
    {
     "data": {
      "image/png": "[encoded data removed]",
      "text/plain": [
       "<Figure size 432x288 with 2 Axes>"
      ]
     },
     "metadata": {
      "needs_background": "light"
     },
     "output_type": "display_data"
    }
   ],
   "source": [
    "# Create the matric heatmap\n",
    "\n",
    "y_predict_test = logreg_classifier.predict(X_test)\n",
    "new_matrix = confusion_matrix(y_test, y_predict_test)\n",
    "sns.heatmap(cnf_matrix, annot = True)"
   ]
  },
  {
   "cell_type": "code",
   "execution_count": 54,
   "id": "d3075031",
   "metadata": {},
   "outputs": [
    {
     "name": "stdout",
     "output_type": "stream",
     "text": [
      "              precision    recall  f1-score   support\n",
      "\n",
      "           0       0.96      0.93      0.95        29\n",
      "           1       0.83      0.91      0.87        11\n",
      "\n",
      "    accuracy                           0.93        40\n",
      "   macro avg       0.90      0.92      0.91        40\n",
      "weighted avg       0.93      0.93      0.93        40\n",
      "\n"
     ]
    }
   ],
   "source": [
    "#Summary statistic\n",
    "\n",
    "from sklearn.metrics import classification_report\n",
    "print(classification_report(y_test, y_predict_test))\n"
   ]
  },
  {
   "cell_type": "code",
   "execution_count": 55,
   "id": "f91443ac",
   "metadata": {},
   "outputs": [
    {
     "name": "stdout",
     "output_type": "stream",
     "text": [
      "Accuracy: 0.925\n",
      "Precision: 0.8333333333333334\n",
      "Recall: 0.9090909090909091\n"
     ]
    }
   ],
   "source": [
    "# Evaluate the model using model evaluation metrics such as accuracy, precision, and recall.\n",
    "\n",
    "print(\"Accuracy:\",metrics.accuracy_score(y_test, y_pred))\n",
    "print(\"Precision:\",metrics.precision_score(y_test, y_pred))\n",
    "print(\"Recall:\",metrics.recall_score(y_test, y_pred))\n"
   ]
  },
  {
   "cell_type": "markdown",
   "id": "bb3c71e2",
   "metadata": {},
   "source": [
    "The classification rate of 92.5% is considered as good accuracy. Precision is about being precise and how accurate your model is. The logistic regression model predicted patients are at high risk of readmission, that patients have 83% of the time. If there are patients at high risk of readmission in the test set and the logistic regression model can identify it 90%% of the recall time."
   ]
  },
  {
   "cell_type": "code",
   "execution_count": 56,
   "id": "5f76a868",
   "metadata": {},
   "outputs": [
    {
     "data": {
      "text/plain": [
       "0    6331\n",
       "1    3669\n",
       "Name: ReAdmis, dtype: int64"
      ]
     },
     "execution_count": 56,
     "metadata": {},
     "output_type": "execute_result"
    }
   ],
   "source": [
    "# check in-balance in target variable\n",
    "medical_df['ReAdmis'].value_counts() "
   ]
  },
  {
   "cell_type": "code",
   "execution_count": 57,
   "id": "bb7bf7ae",
   "metadata": {},
   "outputs": [
    {
     "data": {
      "image/png": "[encoded data removed]",
      "text/plain": [
       "<Figure size 432x288 with 1 Axes>"
      ]
     },
     "metadata": {
      "needs_background": "light"
     },
     "output_type": "display_data"
    }
   ],
   "source": [
    "# The ROC curve\n",
    "y_pred_proba = logreg_classifier.predict_proba(X_test)[::,1]\n",
    "fpr, tpr, _ = metrics.roc_curve(y_test,  y_pred_proba)\n",
    "auc = metrics.roc_auc_score(y_test, y_pred_proba)\n",
    "plt.plot(fpr,tpr,label=\"data 1, auc=\"+str(auc))\n",
    "plt.legend(loc=4)\n",
    "plt.show()"
   ]
  },
  {
   "cell_type": "markdown",
   "id": "f30547f3",
   "metadata": {},
   "source": [
    "The ROC curve plots the true positive (TP) rate against the false positive (FP) rate. It shows the tradeoff between sensitivity and specificity. In this ROC curve, the AUC score is 0.99; the AUC score of 1 represents a perfect classifier, and 0.5 represents a weak classifier."
   ]
  },
  {
   "cell_type": "markdown",
   "id": "64fce644",
   "metadata": {},
   "source": [
    "**E2&E3. Output, Code**\n",
    "\n",
    "Please see all calculations & code output above."
   ]
  },
  {
   "cell_type": "markdown",
   "id": "fe7cbdd0",
   "metadata": {},
   "source": [
    "**F.1 Results**\n",
    "\n",
    "The equation from the reduced model: \n",
    "\n",
    "y = -81.3435  + 1.0617*Initial_days - 0.4586*Initial_admin_dm + 0.0036*TotalCharge + 1.5780*Stroke_dm + 1.2300*Complication_risk_dm - 1.5056*Arthritis_dm - 1.2758*Anxiety_dm  - 0.5262*Allergic_rhinitis_dm - 0.5562*Reflux_esophagitis_dm - 1.2258* Asthma_dm\n",
    "\n",
    "Based on Coef, for every 1 unit of Initial_days, the ReAdmis will increase by 1.0617 units. For every 1 unit of Initial_admin_dm, the ReAdmis will decrease by 0.4586 units. For every 1 unit of TotalCharge, the ReAdmis will increase by 0.0036 units. For every 1 unit of Stroke_dm, the ReAdmis will increase by 1.5780 units. For every 1 unit of Complication_risk_dm, the ReAdmis will increase by 1.2300 units. For every 1 unit of Arthritis_dm, the ReAdmis will decrease by 1.5056 units. For every 1 unit of Anxiety_dm, the ReAdmis will decrease by 1.2758 units. For every 1 unit of Allergic_rhinitis_dm, the ReAdmis will decrease by 0.5262 units. For every 1 unit of Reflux_esophagitis_dm, the ReAdmis will decrease by 0.5562 units. For every 1 unit of Asthma_dm, the ReAdmis will decrease by 1.2258 units.\n",
    " \n",
    "After removing all predictor variables with a p-value greater than 0.05, we have the Pseudo R-squ equal to 0.9459 in the reduced logistic regression model. I can say that the nominal variable explains alone 94.5 of the total 100% variability of a target variable. It means that 0.55 percent in the variation of the dependent variables is not explained by choice of independent variables. Therefore, the reduced regression model is strong.\n",
    "\n",
    "Innitial_days and Initial_admin have p-value equal 0.000\n",
    "\n",
    "The variables that negatively correlate with ReAdmis are Initial_admin_dm, Arthritis_dm, Anxiety_dm, Allergic_rhinitis_dm, Reflux_esophagitis_dm, Asthma_dm.\n",
    "\n",
    "The variables that have a positive relationship with ReAdmis are Initial_days, Stroke_dm, Complication_risk_dm.\n",
    "\n",
    "Now let look at the metric model. The dimension of this cnf_matrix is 2 by 2 because this model is binary classification. We have two classes 0 and 1 (ReAdmis, value yes/no). Diagonal values represent accurate predictions, while non-diagonal elements are inaccurate predictions. In the output, 27 and 10 are actual predictions, 1 and 2 are incorrect predictions.\n",
    "\n",
    "Accuracy: 0.925\n",
    "Precision: 0.8333333333333334\n",
    "Recall: 0.9090909090909091\n",
    "\n",
    "The classification rate of 92.5% is considered as good accuracy. Precision is about being precise and how accurate your model is. The logistic regression model predicted that patients are at high risk of readmission, 83% of the time. If there are patients at high risk of readmission in the test set and the logistic regression model can identify it 90%% of the recall time.\n",
    "\n",
    "The array from con_matrix is as follow: true negatives, false positive, false negatives, true positives.\n",
    "The ROC curve plots the true positive (TP) rate against the false positive (FP) rate. In this ROC curve, the AUC score is 0.99, which means the AUC score of 1 represents a perfect classifier.\n",
    "\n",
    "The limitation of the logistic regression is not able to handle a big number of variables. However, it is vulnerable to overfitting. The logistic regression model will not display well with independent variables that are not correlated to the target variable. Even though the regression model has the Pseudo R-squ at 94.5%, which is already high, the limitations of the data analysis are that we do not know the time frame of this dataset. The data set has an unbalanced data-target variable, ReAdmis, yes values is about 60% of no values). I also think we do not have enough data and need to collect more data for predicting which patients are at high risk of readmission.\n"
   ]
  },
  {
   "cell_type": "markdown",
   "id": "dce38093",
   "metadata": {},
   "source": [
    "**F.2 Action**\n",
    "\n",
    "Based on the results, I would advise the business to add the class_weight parameters if the dataset is unbalanced.\n",
    "We need to reduce more variables in the data frame to predict better which patients are at high risk of readmission with the logistic regression model. We also need to collect more data. Based on the logistic regression equation, the hospital should improve Initial_days, Additional_charges, Hyperlipidemia, Services to increase the high risk of readmission.\n"
   ]
  },
  {
   "cell_type": "markdown",
   "id": "1a3fc5a7",
   "metadata": {},
   "source": [
    "**G. Panopto recording**\n",
    "\n",
    "Panopto video recording of warning and error free code execution to perform data acquisition tasks is uploaded to\n",
    "https://wgu.hosted.panopto.com/Panopto/Pages/Sessions/List.aspx#folderID=%22c5e28fac-6ad0-4e87-b856-ac720189cb27%22"
   ]
  },
  {
   "cell_type": "markdown",
   "id": "1a706fcb",
   "metadata": {},
   "source": [
    "**H. Sources for third-party code**\n",
    "\n",
    "[1]. Datacamp. Understanding Logistic Regression in Python. https://www.datacamp.com/community/tutorials/understanding-logistic-regression-python\n",
    "\n",
    "[2] Zach. (2020, July 21). How to Create a Residual Plot in Python. https://www.statology.org/residual-plot-python/\n",
    "\n",
    "[3] Andeas Dunn. (2021, Nov 09). D208: Predictive Modeling Task 2 Code Demo. https://www.youtube.com/watch?v=xi-7cmoEdZ4\n"
   ]
  },
  {
   "cell_type": "markdown",
   "id": "ed6b7f91",
   "metadata": {},
   "source": [
    "**H. Acknowledge source**\n",
    "\n",
    "[4] Stachoverflow. Questions - Logistic regression, second column of confusion matrix shows zeros.\n",
    "https://stackoverflow.com/questions/50458383/logistic-regression-second-column-of-confusion-matrix-shows-zeros\n",
    "\n",
    "[5] Towards Data Science. The Confusion Matrix: Unveiled, How to measure Classification performanc with Pokemon!. https://towardsdatascience.com/the-confusion-matrix-unveiled-2d030136be40\n",
    "\n",
    "[6] William Sewell. (2021, Nov 10). D208 Predictive Modeling Webinar. https://westerngovernorsuniversity-my.sharepoint.com/:p:/g/personal/william_sewell_wgu_edu/Edu1kfXcHXNJpgvLe2FGGfUB-W0IKyXxTVxOPAx3malF_A?rtime=vhdT0Pqx2Ug"
   ]
  }
 ],
 "metadata": {
  "kernelspec": {
   "display_name": "Python 3",
   "language": "python",
   "name": "python3"
  },
  "language_info": {
   "codemirror_mode": {
    "name": "ipython",
    "version": 3
   },
   "file_extension": ".py",
   "mimetype": "text/x-python",
   "name": "python",
   "nbconvert_exporter": "python",
   "pygments_lexer": "ipython3",
   "version": "3.8.8"
  }
 },
 "nbformat": 4,
 "nbformat_minor": 5
}
